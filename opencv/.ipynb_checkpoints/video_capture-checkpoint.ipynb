{
 "cells": [
  {
   "cell_type": "code",
   "execution_count": 9,
   "id": "b485a159",
   "metadata": {},
   "outputs": [],
   "source": [
    "import cv2\n",
    "\n",
    "cv2.namedWindow('video',cv2.WINDOW_NORMAL)\n",
    "cv2.resizeWindow('video',640,480)\n",
    "\n",
    "cap = cv2.VideoCapture(0)\n",
    "while cap.isOpened():\n",
    "    ret,frame = cap.read()\n",
    "    if not ret:\n",
    "        break\n",
    "        \n",
    "    cv2.imshow('video',frame)\n",
    "    \n",
    "    key = cv2.waitKey(10)# 0 就一直等你输入\n",
    "    \n",
    "    if key == ord('q'):\n",
    "        break\n",
    "        \n",
    "cap.release()\n",
    "cv2.destroyAllWindows()"
   ]
  },
  {
   "cell_type": "code",
   "execution_count": 12,
   "id": "ad207159",
   "metadata": {},
   "outputs": [],
   "source": [
    "import cv2\n",
    "\n",
    "cv2.namedWindow('video',cv2.WINDOW_NORMAL)\n",
    "cv2.resizeWindow('video',640,480)\n",
    "\n",
    "cap = cv2.VideoCapture('./59.mp4')\n",
    "while cap.isOpened():\n",
    "    ret,frame = cap.read()\n",
    "    if not ret:\n",
    "        break\n",
    "        \n",
    "    cv2.imshow('video',frame)\n",
    "    \n",
    "    key = cv2.waitKey(1000 // 24)# 0 就一直等你输入\n",
    "    \n",
    "    if key == ord('q'):\n",
    "        break\n",
    "        \n",
    "cap.release()\n",
    "cv2.destroyAllWindows()"
   ]
  },
  {
   "cell_type": "code",
   "execution_count": 13,
   "id": "368a8c72",
   "metadata": {},
   "outputs": [],
   "source": [
    "import cv2\n",
    "cap = cv2.VideoCapture(0)\n",
    "fourcc = cv2.VideoWriter_fourcc(*'mp4v')# avi为XVID\n",
    "vw = cv2.VideoWriter('output.mp4',fourcc,30,(640,480))\n",
    "\n",
    "while cap.isOpened():\n",
    "    ret,frame = cap.read()\n",
    "    if not ret:\n",
    "        break\n",
    "    vw.write(frame)\n",
    "    cv2.imshow('frame',frame)\n",
    "    \n",
    "    if cv2.waitKey(1000//30)==ord('q'):\n",
    "        break\n",
    "        \n",
    "cap.release()\n",
    "vw.release()\n",
    "cv2.destroyAllWindows()"
   ]
  },
  {
   "cell_type": "code",
   "execution_count": 1,
   "id": "1c8f85af",
   "metadata": {},
   "outputs": [
    {
     "ename": "SyntaxError",
     "evalue": "expected ':' (1023263985.py, line 4)",
     "output_type": "error",
     "traceback": [
      "\u001b[1;36m  Cell \u001b[1;32mIn[1], line 4\u001b[1;36m\u001b[0m\n\u001b[1;33m    def mouse_callback(event,x,y,flags,userdata)\u001b[0m\n\u001b[1;37m                                                ^\u001b[0m\n\u001b[1;31mSyntaxError\u001b[0m\u001b[1;31m:\u001b[0m expected ':'\n"
     ]
    }
   ],
   "source": [
    "import cv2\n",
    "import numpy as np\n",
    "\n",
    "def mouse_callback(event,x,y,flags,userdata):\n",
    "    print(event,x,y,flags,userdata)\n",
    "    \n",
    "\n",
    "cv2.namedWindow('mouse',cv2.WINDOW_NORMAL)\n",
    "cv2.resizeWindow('mouse',640,480)\n",
    "\n",
    "cv2.setMouseCallback('mouse',mouse_callback,'123')\n",
    "\n",
    "\n",
    "def callback(value):\n",
    "#     print(value)\n",
    "    pass\n",
    "\n",
    "cv2.createTrackbar('R','trackbar',0,255,callback)\n",
    "cv2.createTrackbar('G','trackbar',0,255,callback)\n",
    "cv2.createTrackbar('B','trackbar',0,255,callback)\n",
    "\n",
    "img =np.zeros((360,640,3),np.uint8)\n",
    "\n",
    "while True:\n",
    "    r=cv2.getTrackbarPos('R','trackbar')\n",
    "    g=cv2.getTrackbarPos('G','trackbar')    \n",
    "    b=cv2.getTrackbarPos('B','trackbar')    \n",
    "    img[:]=[b,g,r]\n",
    "    cv2.imshow('mouse',img)\n",
    "    key = cv2.waitKey(1)\n",
    "    if key == crd('q')\n",
    "       break\n",
    "\n",
    "cv2.destroyAllWindows()\n",
    "    "
   ]
  }
 ],
 "metadata": {
  "kernelspec": {
   "display_name": "Python 3 (ipykernel)",
   "language": "python",
   "name": "python3"
  },
  "language_info": {
   "codemirror_mode": {
    "name": "ipython",
    "version": 3
   },
   "file_extension": ".py",
   "mimetype": "text/x-python",
   "name": "python",
   "nbconvert_exporter": "python",
   "pygments_lexer": "ipython3",
   "version": "3.10.14"
  }
 },
 "nbformat": 4,
 "nbformat_minor": 5
}
