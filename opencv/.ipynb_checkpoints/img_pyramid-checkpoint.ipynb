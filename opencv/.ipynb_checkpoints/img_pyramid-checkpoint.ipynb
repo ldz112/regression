{
 "cells": [
  {
   "cell_type": "code",
   "execution_count": 4,
   "id": "b7260619",
   "metadata": {},
   "outputs": [
    {
     "name": "stdout",
     "output_type": "stream",
     "text": [
      "(1280, 1533, 3)\n",
      "(320, 384, 3)\n",
      "(640, 768, 3)\n"
     ]
    }
   ],
   "source": [
    "import cv2\n",
    "import numpy as np\n",
    "\n",
    "\n",
    "cat = cv2.imread('./cat.jpeg')\n",
    "\n",
    "print(cat.shape)\n",
    "dst = cv2.pyrDown(cat)# 高斯卷积核，去偶数行偶数列\n",
    "dst = cv2.pyrDown(dst)\n",
    "print(dst.shape)\n",
    "dst = cv2.pyrUp(dst) # 每个方向扩大2倍，以0填充，*4做卷积\n",
    "print(dst.shape)\n",
    "cv2.imshow('img',dst)\n",
    "cv2.waitKey(0)\n",
    "cv2.destroyAllWindows()"
   ]
  },
  {
   "cell_type": "code",
   "execution_count": 9,
   "id": "60169c91",
   "metadata": {},
   "outputs": [
    {
     "data": {
      "text/plain": [
       "(640, 767, 3)"
      ]
     },
     "execution_count": 9,
     "metadata": {},
     "output_type": "execute_result"
    }
   ],
   "source": [
    "# 拉普拉斯金字塔，残差，可还原\n",
    "import cv2\n",
    "import numpy as np\n",
    "\n",
    "\n",
    "cat = cv2.imread('./cat2.png')\n",
    "\n",
    "# cv2.imwrite('./cat2.png', dst)\n",
    "# 获取图像尺寸\n",
    "x, y, w, h = 0, 27, 640, 740\n",
    "# # 对于多通道图像，在右下角增加一个白色像素点\n",
    "    # 执行裁剪操作\n",
    "cropped_img = cat[y:y+h, x:x+w]\n",
    "cv2.imwrite('./cat3.png', dst)\n",
    "\n",
    "# cv2.imwrite('./cat2.png', dst)\n",
    "# dst = cv2.pyrDown(cat)\n",
    "# dst = cv2.pyrUp(dst)\n",
    "\n",
    "# lap0 = cat-dst # sharp不一致\n",
    "\n",
    "# cv2.imshow('lap0',lap0)\n",
    "# cv2.waitKey(0)\n",
    "# cv2.destroyAllWindows()\n",
    "\n"
   ]
  }
 ],
 "metadata": {
  "kernelspec": {
   "display_name": "Python 3 (ipykernel)",
   "language": "python",
   "name": "python3"
  },
  "language_info": {
   "codemirror_mode": {
    "name": "ipython",
    "version": 3
   },
   "file_extension": ".py",
   "mimetype": "text/x-python",
   "name": "python",
   "nbconvert_exporter": "python",
   "pygments_lexer": "ipython3",
   "version": "3.10.14"
  }
 },
 "nbformat": 4,
 "nbformat_minor": 5
}
