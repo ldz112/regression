{
 "cells": [
  {
   "cell_type": "code",
   "execution_count": 4,
   "id": "6a6e1a61",
   "metadata": {},
   "outputs": [],
   "source": [
    "# 卷积，噪声过滤掉，形状过滤出来\n",
    "# 结果为卷积特征\n",
    "# 均值滤波 std\n",
    "import cv2\n",
    "import numpy as np\n",
    "\n",
    "img=  cv2.imread('./food.jpeg')\n",
    "\n",
    "# kernel = np.ones((5,5),np.float32)/25\n",
    "kernel = np.array([[-1,-1,-1],[-1,8,-1],[-1,-1,-1]])\n",
    "\n",
    "dst = cv2.filter2D(img,-1,kernel)\n",
    "cv2.imshow('img',np.hstack((img,dst)))\n",
    "cv2.waitKey(0)\n",
    "cv2.destroyAllWindows()"
   ]
  },
  {
   "cell_type": "code",
   "execution_count": null,
   "id": "c06acb34",
   "metadata": {},
   "outputs": [],
   "source": [
    "# 高斯滤波\n",
    "# 符合高斯分布（正态分布）的数据的概率密度函数\n",
    "# μ高斯分布均值（中轴），σ2 平方差（离散程度），方差越小，越挤，越大，矮胖\n",
    "# 简化，实际上有(x-μ)^2\n",
    "# markdown数学公式"
   ]
  },
  {
   "cell_type": "markdown",
   "id": "666909c8",
   "metadata": {},
   "source": [
    "<font size =5>$G(x,y) = \\frac{1}{2 \\pi \\sigma^2}e^{-\\frac{x^2+y^2}{2\\sigma^2}}$</font>"
   ]
  },
  {
   "cell_type": "code",
   "execution_count": 13,
   "id": "302cd591",
   "metadata": {},
   "outputs": [
    {
     "data": {
      "text/plain": [
       "0.0707355302630646"
      ]
     },
     "execution_count": 13,
     "metadata": {},
     "output_type": "execute_result"
    }
   ],
   "source": [
    "# 计算（0，0）对应的高斯值 σ=1.5  \n",
    "1/(2*np.pi*1.5**2)*np.exp(0)"
   ]
  },
  {
   "cell_type": "code",
   "execution_count": 15,
   "id": "1dc4b5fd",
   "metadata": {},
   "outputs": [],
   "source": [
    "# =>高斯模版（/总数，保障和为1）使用高斯滤波降噪\n",
    "import cv2\n",
    "import numpy as np\n",
    "\n",
    "img=  cv2.imread('./food.jpeg')\n",
    "\n",
    "dst = cv2.GaussianBlur(img,(5,5),sigmaX=1)\n",
    "cv2.imshow('img',np.hstack((img,dst)))\n",
    "cv2.waitKey(0)\n",
    "cv2.destroyAllWindows()"
   ]
  },
  {
   "cell_type": "code",
   "execution_count": null,
   "id": "b94f3aef",
   "metadata": {},
   "outputs": [],
   "source": [
    "# 中值滤波 椒盐噪声\n",
    "# cv2.medianBlur(img,(5,5))\n",
    "\n",
    "# 双边滤波，高斯（空间距离）+灰度距离，降噪，保留边缘信息\n",
    "# (gray（xi，yi）-gray(xc,yc))^2\n",
    "# cv2.bilateral"
   ]
  },
  {
   "cell_type": "code",
   "execution_count": null,
   "id": "5af98083",
   "metadata": {},
   "outputs": [],
   "source": [
    "# 图像边缘\n",
    "# 索贝尔算子 sobel，边缘检测滤波器\n",
    "#边缘时像素值跃迁的位置，显著特征；灰度值快速变化的地方\n",
    "# 导数，函数的变化率；一阶导\n",
    "# 图像求导？离散的数字，离散差分算子 f(x)-f(x+2)近似计算梯度\n",
    "# 对水平方向和垂直方向进行卷积[[-1,0,1],[-2,0,2],[-1,0,1]][[-1,-2,-1],[0,0,0],[1,2,1]]\n",
    "# 考虑综合水平与垂直G=根号Gx^2+Gy^2 简单的用绝对值相加 G=|Gx|+|Gy|\n",
    "# dx= cv2.Soble(img,cv2.CV_64F,dx=1,dy=0,ksize=5)# 计算x轴\n",
    "# dy= cv2.Soble(img,-1,dx=0,dy=1,ksize=5)\n",
    "# cv2.add（dx，dy） addWeighted(dx,0.5,dy,0.5,gamma=0)\n"
   ]
  },
  {
   "cell_type": "code",
   "execution_count": null,
   "id": "956966a6",
   "metadata": {},
   "outputs": [],
   "source": [
    "# sobel对边缘梯度变化不大\n",
    "# 沙尔算法，scharr [3,3]\n",
    "# [[-3,0,3],[-10,0,10],[-3,0,3]][[-3,-10,-3][3,10,3]]\n",
    "# dx= cv2.Scharr(img,cv2.CV_64F,dx=1,dy=0)"
   ]
  },
  {
   "cell_type": "code",
   "execution_count": null,
   "id": "d3b3774c",
   "metadata": {},
   "outputs": [],
   "source": [
    "# 拉普拉斯算子\n",
    "# 找边缘处二阶导数为0 的位置\n",
    "# 存在无意义点，可用高斯进行降噪，在求0\n",
    "# elementWise\n",
    "# cv2.Laplacian(img,-1,ksize=3)# 容易收到噪声的影响"
   ]
  },
  {
   "cell_type": "markdown",
   "id": "f0e7f56f",
   "metadata": {},
   "source": [
    "-  Canny\n",
    "- 低错误率，高定位性，最小响应（边缘只标记一次）\n",
    "- 1去噪\n",
    "- 计算梯度，sobel计算梯度及方向\n",
    "- θ=arctan(Gy/Gx) 计算方向\n",
    "-  非极大值抑制（NMS）\n",
    " - 相同方向的最大值\n",
    " - 滞后阈值（最大，最小，中间通过相连确定）"
   ]
  },
  {
   "cell_type": "code",
   "execution_count": null,
   "id": "d7ed13a5",
   "metadata": {},
   "outputs": [],
   "source": [
    "import cv2\n",
    "import numpy as np\n",
    "\n",
    "img=  cv2.imread('./food.jpeg')\n",
    "\n",
    "\n",
    "dst = cv2.Canny(img,100,200) # 大，不够精细\n",
    "dst2 = cv2.Canny(img,64,128)# 自适应阈值？\n",
    "\n",
    "cv2.imshow('img',np.hstack((img,dst)))\n",
    "cv2.waitKey(0)\n",
    "cv2.destroyAllWindows()"
   ]
  }
 ],
 "metadata": {
  "kernelspec": {
   "display_name": "Python 3 (ipykernel)",
   "language": "python",
   "name": "python3"
  },
  "language_info": {
   "codemirror_mode": {
    "name": "ipython",
    "version": 3
   },
   "file_extension": ".py",
   "mimetype": "text/x-python",
   "name": "python",
   "nbconvert_exporter": "python",
   "pygments_lexer": "ipython3",
   "version": "3.10.14"
  }
 },
 "nbformat": 4,
 "nbformat_minor": 5
}
