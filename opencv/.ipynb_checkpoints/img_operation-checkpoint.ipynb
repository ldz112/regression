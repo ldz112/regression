{
 "cells": [
  {
   "cell_type": "code",
   "execution_count": 4,
   "id": "2088c5ab",
   "metadata": {},
   "outputs": [
    {
     "name": "stdout",
     "output_type": "stream",
     "text": [
      "(1280, 1533, 3)\n",
      "(376, 640, 3)\n",
      "(376, 640, 3)\n"
     ]
    }
   ],
   "source": [
    "import cv2\n",
    "import numpy as np\n",
    "cat = cv2.imread('./cat.jpeg')\n",
    "food = cv2.imread('./food.jpeg')\n",
    "#把图片变小，传递新的宽度与高度，先宽度再高度，先列后行，和sharp输出相反\n",
    "# new_cat = cv2.resize(cat,(food.jpeg.shape[:-1][::-1]))\n",
    "\n",
    "print(cat.shape)\n",
    "print(food.shape)\n",
    "\n",
    "new_cat = cat[0:376,:640]#左闭右开\n",
    "print(new_cat.shape)\n",
    "# 对应位置的元素相加，超过255，则为255，subtract小于0则0\n",
    "add_img = cv2.add(new_cat,food)\n",
    "\n",
    "# 超则%256\n",
    "food +=100\n",
    "\n",
    "\n",
    "cv2.imshow('cat',add_img )\n",
    "cv2.waitKey(0)\n",
    "cv2.destroyAllWindows()"
   ]
  },
  {
   "cell_type": "code",
   "execution_count": 10,
   "id": "a14fabc6",
   "metadata": {},
   "outputs": [
    {
     "name": "stdout",
     "output_type": "stream",
     "text": [
      "722064\n"
     ]
    }
   ],
   "source": [
    "# 图片融合，进行线性运算，w1，w2, bias\n",
    "import cv2\n",
    "import numpy as np\n",
    "cat = cv2.imread('./cat.jpeg')\n",
    "food = cv2.imread('./food.jpeg')\n",
    "new_cat = cv2.resize(cat,(food.shape[:-1][::-1]))\n",
    "\n",
    "h,w,ch= new_cat.shape\n",
    "print(new_cat.__sizeof__())\n",
    "# new_cat = cv2.resize(cat,(499,360)) interpolation  cv2.inter_linear\n",
    "add_img=cv2.addWeighted(new_cat,0.8,food,0.3,0)\n",
    "# flap 翻转\n",
    "# new_img = warpaffine(src,M,(w,h)) 仿射变换，平移，缩放，旋转  仅变位置\n",
    "# M 变换矩阵\n",
    "# M = np.float32([1,0,200],[0,1,0])\n",
    "# M= cv2.getRotationMatrix2D((w/2,h/2),15,1) # 逆时针\n",
    "src = np.float32([[200,100],[200.100],[300,200]])\n",
    "dst = np.float32([[200,100],[200.100],[300,200]])\n",
    "# M= cv2.getAffineTransform(scr,dst)\n",
    "cv2.imshow('nccat',add_img )\n",
    "cv2.waitKey(0)\n",
    "cv2.destroyAllWindows()"
   ]
  },
  {
   "cell_type": "code",
   "execution_count": null,
   "id": "0a15818a",
   "metadata": {},
   "outputs": [],
   "source": [
    "# 透视变化，变化视角\n",
    "# getPerspectiveTransform(scr,dst)\n",
    "# src = np.float32([100,1100],[2100,1100],[],[])\n",
    "# dst = np.float32([0,0],[2300,0],[],[])"
   ]
  },
  {
   "cell_type": "code",
   "execution_count": 17,
   "id": "36fb98c4",
   "metadata": {},
   "outputs": [],
   "source": [
    "import cv2\n",
    "import numpy as np\n",
    "# cat = cv2.imread('./food.jpeg')\n",
    "\n",
    "# gray = cv2.cvtColor(cat,cv2.COLOR_BGR2GRAY)\n",
    "gray = cv2.imread('./food.jpeg',0)\n",
    "# 阈值，二值化处理后的图片\n",
    "# thresh ,dst = cv2.threshold(gray,100,255,cv2.THRESH_BINARY)\n",
    "\n",
    "# print(thresh)\n",
    "\n",
    "dst = cv2.adaptiveThreshold(gray,255,cv2.ADAPTIVE_THRESH_GAUSSIAN_C,cv2.THRESH_BINARY_INV,3,0)\n",
    "\n",
    "cv2.imshow('dog',np.hstack((gray,dst)) )\n",
    "cv2.waitKey(0)\n",
    "cv2.destroyAllWindows()"
   ]
  },
  {
   "cell_type": "markdown",
   "id": "479d9959",
   "metadata": {},
   "source": [
    "# 形态学\n",
    "- 一系列处理图像形状特征的图像处理技术\n",
    "- 利用卷积核（结构元），来测量或提取图像特征，以便进一步进行图像分析和目标识别\n",
    "- 对二精致图像进行处理，即黑白图像\n",
    "- 卷积核决定图像处理后的效果\n",
    "- 常用操作\n",
    "    - 膨胀和腐蚀\n",
    "    - 开闭运算\n",
    "    - 顶帽、黑帽\n",
    "## Erosion\n",
    " - 腐蚀操作（Erosion）是数字图像处理和计算机视觉领域中的一种基本形态学操作。它主要用于缩小前景对象的大小，或者说是去除小的对象或噪声。腐蚀操作通常与膨胀操作一起使用，以实现开运算、闭运算等更复杂的形态学变换\n",
    " - kernel = np.ones((5,5), np.uint8)\n",
    " - erosion = cv2.erode(binary_img, kernel, iterations = 1)\n",
    "## 获取卷积核\n"
   ]
  },
  {
   "cell_type": "code",
   "execution_count": null,
   "id": "b2061b47",
   "metadata": {},
   "outputs": [],
   "source": [
    "kernal = cv2.getStructuringElement(cv2.MORPH_RECT,(3,3))\n",
    "# ELLIPSE\n",
    "# CROSS\n",
    "\n",
    "# 应用膨胀操作，先腐蚀再膨胀（还原）\n",
    "# 应用阈值处理使图像变为二值图像\n",
    "_, binary_img = cv2.threshold(img, 127, 255, cv2.THRESH_BINARY)\n",
    "\n",
    "# 应用膨胀操作\n",
    "dilation = cv2.dilate(binary_img, kernel, iterations = 1)"
   ]
  },
  {
   "cell_type": "code",
   "execution_count": null,
   "id": "e3520000",
   "metadata": {},
   "outputs": [],
   "source": [
    "# opening = cv2.morphologyEx(binary_img, cv2.MORPH_OPEN, kernel)\n",
    "# cv2.MORPH_OPEN: 开运算（先腐蚀后膨胀），用于去除小的对象。\n",
    "# cv2.MORPH_CLOSE: 闭运算（先膨胀后腐蚀），用于填充对象内部的小孔。\n",
    "# cv2.MORPH_GRADIENT: 形态学梯度，显示膨胀与腐蚀之间的差异，可用于边缘检测。\n",
    "# cv2.MORPH_TOPHAT: 顶帽变换，原图像与开运算结果之差，可用于突出比邻近点更亮的区域。\n",
    "# cv2.MORPH_BLACKHAT: 黑帽变换，闭运算结果与原图像之差，可用于突出比邻近点更暗的区域。\n",
    "# 开 腐蚀+ 膨胀\n",
    "# 闭，相反"
   ]
  },
  {
   "cell_type": "markdown",
   "id": "b29d6371",
   "metadata": {},
   "source": [
    "# 图像轮廓\n",
    " - 相同颜色或灰度连续点的曲线\n",
    " - 先二值化或Canny操作\n",
    " - 画轮廓有时候会修改原图\n",
    "## 查找轮廓\n",
    " - findContours"
   ]
  },
  {
   "cell_type": "code",
   "execution_count": 42,
   "id": "fa6c96e9",
   "metadata": {},
   "outputs": [],
   "source": [
    "import cv2\n",
    "import numpy as np\n",
    "\n",
    "# gray = cv2.imread('./cat.jpeg', 0)\n",
    "\n",
    "cat = cv2.imread('./cat.jpeg')\n",
    "\n",
    "gray = cv2.cvtColor(cat,cv2.COLOR_BGR2GRAY)\n",
    "# 阈值，二值化处理后的图片\n",
    "thresh, dst = cv2.threshold(gray, 150, 255, cv2.THRESH_BINARY)\n",
    "\n",
    "\n",
    "contours, hierarchy = cv2.findContours(dst, cv2.RETR_TREE, cv2.CHAIN_APPROX_SIMPLE)\n",
    "\n",
    "img_copy = cat.copy()\n",
    "\n",
    "cv2.drawContours(img_copy,contours,3375,(0,0,255),2)\n",
    "# 多变型逼近\n",
    "approx = cv2.approxPolyDP(contours[3375],1,closed=True)\n",
    "cv2.drawContours(img_copy,[approx],0,(0,255,0),2) # 2维\n",
    "\n",
    "# 凸包，周围的轮廓\n",
    "# hull= cv2.convexHull(contours[3375])\n",
    "\n",
    "# 外接矩形\n",
    "# cv2.minAreaRect\n",
    "# cv2.boundingRectu\n",
    "# box = cv2.boxPoints(ret) 计算4个点\n",
    "# box = np.int0(box)\n",
    "# np.round(box).asType('int64')\n",
    "\n",
    "cv2.imshow('img_copy',img_copy)\n",
    "cv2.waitKey(0)\n",
    "cv2.destroyAllWindows()"
   ]
  },
  {
   "cell_type": "code",
   "execution_count": null,
   "id": "d46912fd",
   "metadata": {},
   "outputs": [],
   "source": []
  }
 ],
 "metadata": {
  "kernelspec": {
   "display_name": "Python 3 (ipykernel)",
   "language": "python",
   "name": "python3"
  },
  "language_info": {
   "codemirror_mode": {
    "name": "ipython",
    "version": 3
   },
   "file_extension": ".py",
   "mimetype": "text/x-python",
   "name": "python",
   "nbconvert_exporter": "python",
   "pygments_lexer": "ipython3",
   "version": "3.10.14"
  }
 },
 "nbformat": 4,
 "nbformat_minor": 5
}
