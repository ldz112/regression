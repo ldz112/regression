{
 "cells": [
  {
   "cell_type": "code",
   "execution_count": 1,
   "id": "d2b8d1b2",
   "metadata": {},
   "outputs": [],
   "source": [
    "import cv2\n",
    "\n",
    "cv2.namedWindow('img',cv2.WINDOW_NORMAL)\n",
    "cv2.resizeWindow('img',320,240)\n",
    "\n",
    "img = cv2.imread('./food.jpeg')\n",
    "# 利用whi1e循环优化退出逻辑\n",
    "while True:\n",
    "    cv2.imshow('img', img)\n",
    "    key = cv2.waitKey(0)\n",
    "    if(key & 0xFF == ord('q')):\n",
    "        break\n",
    "    elif(key & 0xFF == ord('s')):\n",
    "        cv2.imwrite('./123.png', img)\n",
    "    else:\n",
    "        print(key)\n",
    "cv2.destroyAllWindows()"
   ]
  },
  {
   "cell_type": "code",
   "execution_count": null,
   "id": "6047e370",
   "metadata": {},
   "outputs": [],
   "source": []
  }
 ],
 "metadata": {
  "kernelspec": {
   "display_name": "Python 3 (ipykernel)",
   "language": "python",
   "name": "python3"
  },
  "language_info": {
   "codemirror_mode": {
    "name": "ipython",
    "version": 3
   },
   "file_extension": ".py",
   "mimetype": "text/x-python",
   "name": "python",
   "nbconvert_exporter": "python",
   "pygments_lexer": "ipython3",
   "version": "3.10.14"
  }
 },
 "nbformat": 4,
 "nbformat_minor": 5
}
