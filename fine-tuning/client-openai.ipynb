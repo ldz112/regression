{
 "cells": [
  {
   "cell_type": "code",
   "execution_count": null,
   "id": "d657570d",
   "metadata": {},
   "outputs": [],
   "source": [
    "from openai import OpenAI\n",
    "\n",
    "openai_api_key=\"empty\"\n",
    "openai_api_base=\"http://localhost:8000/v1\"\n",
    "\n",
    "client = OpenAI(\n",
    "    api_key=openai_api_key,\n",
    "    base_url = openai_api_base,\n",
    ")\n",
    "\n",
    "chat_response=client.chat.completions.create(\n",
    "    model=\"/root/merged/2025\",\n",
    "    messages=[\n",
    "        {\"role\":\"system\",\"content\":\"你是一个擅长做数学计算的老师\"},\n",
    "        {\"role\":\"user\",\"content\":\"1+1=多少\"},\n",
    "    ]\n",
    ")\n",
    "\n",
    "print(\"chat response\",chat_response)"
   ]
  }
 ],
 "metadata": {
  "kernelspec": {
   "display_name": "Python 3 (ipykernel)",
   "language": "python",
   "name": "python3"
  },
  "language_info": {
   "codemirror_mode": {
    "name": "ipython",
    "version": 3
   },
   "file_extension": ".py",
   "mimetype": "text/x-python",
   "name": "python",
   "nbconvert_exporter": "python",
   "pygments_lexer": "ipython3",
   "version": "3.10.14"
  }
 },
 "nbformat": 4,
 "nbformat_minor": 5
}
