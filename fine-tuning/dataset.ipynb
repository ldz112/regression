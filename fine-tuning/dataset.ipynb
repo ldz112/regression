{
 "cells": [
  {
   "cell_type": "code",
   "execution_count": 8,
   "id": "13c28fc6",
   "metadata": {},
   "outputs": [
    {
     "name": "stdout",
     "output_type": "stream",
     "text": [
      "train size: 450\n",
      "test size: 450\n"
     ]
    },
    {
     "data": {
      "application/vnd.jupyter.widget-view+json": {
       "model_id": "fc0ebc0a8efc4f9d89c77f6d503c16ed",
       "version_major": 2,
       "version_minor": 0
      },
      "text/plain": [
       "Map:   0%|          | 0/450 [00:00<?, ? examples/s]"
      ]
     },
     "metadata": {},
     "output_type": "display_data"
    },
    {
     "name": "stdout",
     "output_type": "stream",
     "text": [
      "\n",
      "示例数据：\n",
      "\n",
      "you are a mathematics expert,skilled in solving methematical problems and logical reasoning.\n",
      "Please read the question carefully and provide detailed solution steps.\n",
      "\n",
      "<|Question|>\n",
      "A small village has a total population of $520$. The data is shown on a graph which divides this population into four equal groups represented by rectangles. However, the labels specifying males and females are unreaded. If it is known that one rectangle represents all males in the village, how many males are there?\n",
      "$\\text{(A)}\\ 100 \\qquad \\text{(B)}\\ 130 \\qquad \\text{(C)}\\ 150 \\qquad \\text{(D)}\\ 170 \\qquad \\text{(E)}\\ 200$\n",
      "\n",
      "<|Solution process|>\n",
      "<think>\n",
      "To determine the number of males in the village, we start by noting that the total population is 520 and it is divided into four equal groups. Each group is represented by a rectangle on the graph. \n",
      "\n",
      "Since the population is divided equally, each group (rectangle) represents:\n",
      "\\[\n",
      "\\frac{520}{4} = 130\n",
      "\\]\n",
      "Given that one of these rectangles represents all the males in the village, the number of males is 130.\n",
      "</think>\n",
      "\n",
      "To determine the number of males in the village, let's analyze the given information step by step.\n",
      "\n",
      "1. **Total Population**: The village has a total population of **520**.\n",
      "\n",
      "2. **Division into Groups**: The population is divided into **four equal groups**, each represented by a rectangle on the graph.\n",
      "\n",
      "3. **Equal Group Size**: Since the groups are equal, each group represents:\n",
      "   \\[\n",
      "   \\frac{520}{4} = 130\n",
      "   \\]\n",
      "   \n",
      "4. **Males Representation**: It is specified that **one rectangle represents all males** in the village.\n",
      "\n",
      "5. **Number of Males**: Therefore, the number of males is equal to the size of one group:\n",
      "   \\[\n",
      "   130\n",
      "   \\]\n",
      "\n",
      "**Final Answer**: \\(\\boxed{130}\\)\n",
      "\n",
      "<|Final Answer|>\n",
      "1. **Understanding the Situation**: The total population is given as $520$, divided into four rectangles of equal population size. Each rectangle represents a different group (males, females, adults, children), but only the male group is needed.\n",
      "\n",
      "2. **Formulating the Equation**: Each rectangle holds an equal quarter of the total population:\n",
      "   \\[\n",
      "   4x = 520\n",
      "   \\]\n",
      "\n",
      "3. **Solving for $x$**: Solving for $x$ gives:\n",
      "   \\[\n",
      "   x = \\frac{520}{4} = 130\n",
      "   \\]\n",
      "\n",
      "4. **Determining Males**: Knowing one rectangle represents males, the number of males is exactly one rectangle's population:\n",
      "   \\[\n",
      "   130\n",
      "   \\]\n",
      "\n",
      "5. **Conclusion**: Thus, the village has $130$ males.\n",
      "The correct answer is $\\boxed{\\text{(B)}\\ 130}$.\n",
      "\n"
     ]
    },
    {
     "data": {
      "application/vnd.jupyter.widget-view+json": {
       "model_id": "c6a244713d0a449ca4c7e6c0326f0360",
       "version_major": 2,
       "version_minor": 0
      },
      "text/plain": [
       "Creating json from Arrow format:   0%|          | 0/1 [00:00<?, ?ba/s]"
      ]
     },
     "metadata": {},
     "output_type": "display_data"
    },
    {
     "data": {
      "text/plain": [
       "1091729"
      ]
     },
     "execution_count": 8,
     "metadata": {},
     "output_type": "execute_result"
    }
   ],
   "source": [
    "prompt_template=\"\"\"\n",
    "you are a mathematics expert,skilled in solving methematical problems and logical reasoning.\n",
    "Please read the question carefully and provide detailed solution steps.\n",
    "\n",
    "<|Question|>\n",
    "{problem}\n",
    "\n",
    "<|Solution process|>\n",
    "{reannotated_assistant_content}\n",
    "\n",
    "<|Final Answer|>\n",
    "{solution}\n",
    "\"\"\"\n",
    "\n",
    "def template_dataset(sample):\n",
    "    sample[\"text\"] = prompt_template.format(\n",
    "        problem=sample[\"problem\"],\n",
    "        reannotated_assistant_content = sample[\"reannotated_assistant_content\"],\n",
    "        solution = sample[\"solution\"]\n",
    "    )\n",
    "    return sample\n",
    "    \n",
    "from datasets import load_dataset,Dataset,DatasetDict\n",
    "import pandas as pd\n",
    "from sklearn.model_selection import train_test_split\n",
    "import os\n",
    "from random import randint\n",
    "\n",
    "\n",
    "dataset = load_dataset(\"ServiceNow-AI/R1-Distill-SFT\",name=\"v0\",trust_remote_code=True)\n",
    "# dataset = load_from_disk\n",
    "df= pd.DataFrame(dataset['train'])\n",
    "\n",
    "df= df.iloc[0:500]\n",
    "\n",
    "train, test = train_test_split(df,test_size=0.1,random_state=666)\n",
    "\n",
    "print(\"train size:\",len(train))\n",
    "print(\"test size:\",len(train))\n",
    "\n",
    "\n",
    "train_ds=Dataset.from_pandas(df=train)\n",
    "test_ds=Dataset.from_pandas(df=test)\n",
    "\n",
    "dataset  = DatasetDict({\n",
    "    \"train\":train_ds,\n",
    "    \"test\":test_ds\n",
    "})\n",
    "\n",
    "train_ds = dataset[\"train\"].map(\n",
    "    template_dataset,\n",
    "    remove_columns=list(dataset[\"train\"].features)\n",
    ")\n",
    "\n",
    "print(\"\\n示例数据：\")\n",
    "print(train_ds[randint(0,len(train_ds)-1)][\"text\"])\n",
    "\n",
    "\n",
    "os.makedirs(\"data\",exist_ok=True)\n",
    "train_ds.to_json(path_or_buf=\"data/train.json\")"
   ]
  },
  {
   "cell_type": "code",
   "execution_count": null,
   "id": "f12a1c5e",
   "metadata": {},
   "outputs": [],
   "source": []
  }
 ],
 "metadata": {
  "kernelspec": {
   "display_name": "Python 3 (ipykernel)",
   "language": "python",
   "name": "python3"
  },
  "language_info": {
   "codemirror_mode": {
    "name": "ipython",
    "version": 3
   },
   "file_extension": ".py",
   "mimetype": "text/x-python",
   "name": "python",
   "nbconvert_exporter": "python",
   "pygments_lexer": "ipython3",
   "version": "3.10.14"
  }
 },
 "nbformat": 4,
 "nbformat_minor": 5
}
