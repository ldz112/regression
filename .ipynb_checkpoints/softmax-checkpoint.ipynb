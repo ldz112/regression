{
 "cells": [
  {
   "cell_type": "code",
   "execution_count": 7,
   "id": "6cd0e85b",
   "metadata": {},
   "outputs": [
    {
     "data": {
      "text/plain": [
       "tensor([0.9642, 0.2225, 0.0150], requires_grad=True)"
      ]
     },
     "execution_count": 7,
     "metadata": {},
     "output_type": "execute_result"
    }
   ],
   "source": [
    "import torch\n",
    "a = torch.rand(3)\n",
    "a.requires_grad_()"
   ]
  },
  {
   "cell_type": "code",
   "execution_count": 9,
   "id": "3f55c4c5",
   "metadata": {},
   "outputs": [
    {
     "data": {
      "text/plain": [
       "(tensor([-0.1115, -0.0531,  0.1646]),)"
      ]
     },
     "execution_count": 9,
     "metadata": {},
     "output_type": "execute_result"
    }
   ],
   "source": [
    "import torch.nn.functional as F\n",
    "p=F.softmax(a,dim=0)\n",
    "# p.backward()\n",
    "torch.autograd.grad(p[1],[a],retain_graph=True)\n",
    "torch.autograd.grad(p[2],[a])"
   ]
  },
  {
   "cell_type": "code",
   "execution_count": 17,
   "id": "b415e1c6",
   "metadata": {},
   "outputs": [
    {
     "name": "stdout",
     "output_type": "stream",
     "text": [
      "tensor([6, 1, 7, 1])\n"
     ]
    },
    {
     "data": {
      "text/plain": [
       "tensor([6, 1, 7, 1])"
      ]
     },
     "execution_count": 17,
     "metadata": {},
     "output_type": "execute_result"
    }
   ],
   "source": [
    "import torch\n",
    "import torch.nn.functional as F\n",
    "logits = torch.rand(4,10)\n",
    "pred = F.softmax(logits,dim=1) # dim=1 表示对每一行计算 Softmax 如果 dim=0，则对每列计算 Softmax，通常在处理多批次数据时不常用\n",
    "\n",
    "pred_lable = pred.argmax(dim=1)\n",
    "print(pred_lable)\n",
    "logits.argmax(dim=1)\n",
    "lable = torch.tensor([9,1,1,1])\n",
    "correct = torch.eq(pred_lable,lable)"
   ]
  },
  {
   "cell_type": "code",
   "execution_count": null,
   "id": "f08d15cb",
   "metadata": {},
   "outputs": [],
   "source": []
  },
  {
   "cell_type": "code",
   "execution_count": null,
   "id": "c3564649",
   "metadata": {},
   "outputs": [],
   "source": []
  }
 ],
 "metadata": {
  "kernelspec": {
   "display_name": "Python 3 (ipykernel)",
   "language": "python",
   "name": "python3"
  },
  "language_info": {
   "codemirror_mode": {
    "name": "ipython",
    "version": 3
   },
   "file_extension": ".py",
   "mimetype": "text/x-python",
   "name": "python",
   "nbconvert_exporter": "python",
   "pygments_lexer": "ipython3",
   "version": "3.10.14"
  }
 },
 "nbformat": 4,
 "nbformat_minor": 5
}
