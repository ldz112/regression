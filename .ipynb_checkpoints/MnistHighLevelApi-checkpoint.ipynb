{
 "cells": [
  {
   "cell_type": "code",
   "execution_count": 16,
   "id": "5e1c255b",
   "metadata": {},
   "outputs": [],
   "source": [
    "import torch\n",
    "from torchvision import datasets, transforms\n",
    "batch_size = 200\n",
    "transforms = transforms.Compose([\n",
    "    transforms.ToTensor(),\n",
    "    transforms.Normalize((0.1307,), (0.3081,))\n",
    "])\n",
    "\n",
    "train_loader = torch.utils.data.DataLoader(\n",
    "    datasets.MNIST('../data', train=True, download=True, transform=transforms),\n",
    "    batch_size=batch_size, shuffle=True)\n",
    "\n",
    "test_loader = torch.utils.data.DataLoader(\n",
    "    datasets.MNIST('../data', train=False, transform=transforms),\n",
    "    batch_size=batch_size, shuffle=True)"
   ]
  },
  {
   "cell_type": "code",
   "execution_count": 17,
   "id": "7df3b065",
   "metadata": {},
   "outputs": [],
   "source": [
    "import torch.nn.functional as F\n",
    "from torch.nn import Module, Sequential, Linear, LeakyReLU\n",
    "from torchvision import datasets,transforms\n",
    "from torch.utils.data import DataLoader\n",
    "import time\n",
    "#网络结构\n",
    "class MLP(Module):\n",
    "    def __init__(self):\n",
    "        super(MLP,self).__init__()\n",
    "        \n",
    "        self.model= Sequential(\n",
    "            Linear(784,200),\n",
    "            LeakyReLU(inplace=True),\n",
    "            Linear(200,200),\n",
    "            LeakyReLU(inplace=True),\n",
    "            Linear(200,10),\n",
    "            LeakyReLU(inplace=True)\n",
    "        )\n",
    "\n",
    "    def forward(self, x):\n",
    "        return self.model(x)"
   ]
  },
  {
   "cell_type": "code",
   "execution_count": 18,
   "id": "5e641700",
   "metadata": {},
   "outputs": [],
   "source": [
    "batch_size = 200\n",
    "learning_rate = 0.001\n",
    "#整个数据集\n",
    "epochs = 10\n",
    "# 定义GPU设备\n",
    "# device = torch.device('cuda:0')\n",
    "device = torch.device(\"cuda\" if torch.cuda.is_available() else \"cpu\")\n",
    "# model放到GPU\n",
    "net = MLP().to(device)\n",
    "#选择一个优化器，指定需要优化的参数，以及学习率\n",
    "optimizer =torch.optim.SGD(net.parameters(),lr=learning_rate)"
   ]
  },
  {
   "cell_type": "code",
   "execution_count": 22,
   "id": "c739a39f",
   "metadata": {},
   "outputs": [
    {
     "ename": "NameError",
     "evalue": "name 'epochs' is not defined",
     "output_type": "error",
     "traceback": [
      "\u001b[1;31m---------------------------------------------------------------------------\u001b[0m",
      "\u001b[1;31mNameError\u001b[0m                                 Traceback (most recent call last)",
      "Cell \u001b[1;32mIn[22], line 1\u001b[0m\n\u001b[1;32m----> 1\u001b[0m \u001b[38;5;28;01mfor\u001b[39;00m epoch \u001b[38;5;129;01min\u001b[39;00m \u001b[38;5;28mrange\u001b[39m(\u001b[43mepochs\u001b[49m):\n\u001b[0;32m      2\u001b[0m     \u001b[38;5;28;01mfor\u001b[39;00m batch_idx,(data,target)\u001b[38;5;129;01min\u001b[39;00m \u001b[38;5;28menumerate\u001b[39m(train_loader):\n\u001b[0;32m      3\u001b[0m         \u001b[38;5;66;03m# data转换维度为[200,784],target的维度为[200]\u001b[39;00m\n\u001b[0;32m      4\u001b[0m         data\u001b[38;5;241m=\u001b[39m data\u001b[38;5;241m.\u001b[39mview(\u001b[38;5;241m-\u001b[39m\u001b[38;5;241m1\u001b[39m,\u001b[38;5;241m28\u001b[39m \u001b[38;5;241m*\u001b[39m\u001b[38;5;241m28\u001b[39m)\n",
      "\u001b[1;31mNameError\u001b[0m: name 'epochs' is not defined"
     ]
    }
   ],
   "source": [
    "for epoch in range(epochs):\n",
    "    for batch_idx,(data,target)in enumerate(train_loader):\n",
    "        # data转换维度为[200,784],target的维度为[200]\n",
    "        data= data.view(-1,28 *28)\n",
    "        #将data和target放到GPU\n",
    "        data, target= data.to(device),target.to(device)\n",
    "        # data为输入，net()直接执行forward\n",
    "        # 跑一次网络，得到z,维度为[200,10],200是batch size,10是类别\n",
    "        #由于net在GPU，data也在GPU，计算出的z就在GPU\n",
    "        # 调用net(data)的时候相当于调用Module类的 cal1 方法\n",
    "        z= net(data)\n",
    "        #将loss放到GPU\n",
    "        loss =F.cross_entropy(z,target).to(device)\n",
    "        #每次迭代前将梯度置0\n",
    "        optimizer.zero_grad()\n",
    "        #反向传播，计算梯度\n",
    "        loss.backward()\n",
    "        #相当于执行w=w- dw，也就是更新权值\n",
    "        optimizer.step()\n",
    "        if batch_idx % 100 == 0:\n",
    "            print(loss)"
   ]
  },
  {
   "cell_type": "code",
   "execution_count": null,
   "id": "1441483b",
   "metadata": {},
   "outputs": [],
   "source": []
  }
 ],
 "metadata": {
  "kernelspec": {
   "display_name": "Python 3 (ipykernel)",
   "language": "python",
   "name": "python3"
  },
  "language_info": {
   "codemirror_mode": {
    "name": "ipython",
    "version": 3
   },
   "file_extension": ".py",
   "mimetype": "text/x-python",
   "name": "python",
   "nbconvert_exporter": "python",
   "pygments_lexer": "ipython3",
   "version": "3.10.14"
  }
 },
 "nbformat": 4,
 "nbformat_minor": 5
}
