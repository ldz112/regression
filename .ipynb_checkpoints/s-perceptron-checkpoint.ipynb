{
 "cells": [
  {
   "cell_type": "code",
   "execution_count": 10,
   "id": "2d1083ff",
   "metadata": {},
   "outputs": [
    {
     "data": {
      "text/plain": [
       "(tensor([[-0.3860, -0.2651, -2.0119, -0.5565,  0.0263,  1.0592, -0.9192,  0.7255,\n",
       "          -0.2783, -0.1333]]),\n",
       " tensor([[-1.0474,  0.7040,  0.0793, -1.9685,  0.7074,  0.9626, -1.1461,  0.7597,\n",
       "          -0.6921, -3.0445]], requires_grad=True))"
      ]
     },
     "execution_count": 10,
     "metadata": {},
     "output_type": "execute_result"
    }
   ],
   "source": [
    "import torch\n",
    "X=torch.randn(1,10)\n",
    "W=torch.randn(1,10,requires_grad=True)\n",
    "X,W"
   ]
  },
  {
   "cell_type": "code",
   "execution_count": 11,
   "id": "1358f681",
   "metadata": {},
   "outputs": [
    {
     "data": {
      "text/plain": [
       "tensor([[0.9878]], grad_fn=<SigmoidBackward0>)"
      ]
     },
     "execution_count": 11,
     "metadata": {},
     "output_type": "execute_result"
    }
   ],
   "source": [
    "O=torch.sigmoid(X@W.t())\n",
    "O"
   ]
  },
  {
   "cell_type": "code",
   "execution_count": 12,
   "id": "c4d8bc75",
   "metadata": {},
   "outputs": [
    {
     "data": {
      "text/plain": [
       "tensor([[ 1.1330e-04,  7.7804e-05,  5.9057e-04,  1.6337e-04, -7.7103e-06,\n",
       "         -3.1091e-04,  2.6983e-04, -2.1295e-04,  8.1683e-05,  3.9117e-05]])"
      ]
     },
     "execution_count": 12,
     "metadata": {},
     "output_type": "execute_result"
    }
   ],
   "source": [
    "import torch.nn.functional as F\n",
    "Y= torch.ones(1,1)\n",
    "loss = F.mse_loss(Y,O)\n",
    "loss.backward()\n",
    "W.grad"
   ]
  },
  {
   "cell_type": "markdown",
   "id": "de0c3b4c",
   "metadata": {},
   "source": [
    "- W-0.001▽W\n",
    "- W*X =>Y"
   ]
  }
 ],
 "metadata": {
  "kernelspec": {
   "display_name": "Python 3 (ipykernel)",
   "language": "python",
   "name": "python3"
  },
  "language_info": {
   "codemirror_mode": {
    "name": "ipython",
    "version": 3
   },
   "file_extension": ".py",
   "mimetype": "text/x-python",
   "name": "python",
   "nbconvert_exporter": "python",
   "pygments_lexer": "ipython3",
   "version": "3.10.14"
  }
 },
 "nbformat": 4,
 "nbformat_minor": 5
}
