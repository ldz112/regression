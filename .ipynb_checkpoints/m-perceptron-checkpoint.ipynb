{
 "cells": [
  {
   "cell_type": "code",
   "execution_count": 2,
   "id": "2a88bfd6",
   "metadata": {},
   "outputs": [
    {
     "data": {
      "text/plain": [
       "(tensor([[-1.4725,  0.6877, -1.4501,  1.1598,  2.5623, -0.1665,  0.1151, -0.9268,\n",
       "           0.2999, -3.0379]]),\n",
       " tensor([[ 0.2075, -2.2630,  0.2843,  0.2180, -0.0376,  2.1601, -0.3476, -1.7902,\n",
       "           0.5247, -1.2798],\n",
       "         [ 1.0575, -0.0278,  1.0430,  0.4226, -0.0381,  0.0781, -1.7617, -0.0425,\n",
       "           0.5394, -0.5852]], requires_grad=True))"
      ]
     },
     "execution_count": 2,
     "metadata": {},
     "output_type": "execute_result"
    }
   ],
   "source": [
    "import torch\n",
    "X=torch.randn(1,10)\n",
    "W=torch.randn(2,10,requires_grad=True)\n",
    "X,W"
   ]
  },
  {
   "cell_type": "code",
   "execution_count": 6,
   "id": "19a421e7",
   "metadata": {},
   "outputs": [
    {
     "data": {
      "text/plain": [
       "tensor([[0.9604, 0.2823]], grad_fn=<SigmoidBackward0>)"
      ]
     },
     "execution_count": 6,
     "metadata": {},
     "output_type": "execute_result"
    }
   ],
   "source": [
    "O=torch.sigmoid(X@W.t())\n",
    "O"
   ]
  },
  {
   "cell_type": "code",
   "execution_count": null,
   "id": "453e2cda",
   "metadata": {},
   "outputs": [],
   "source": [
    "import torch.nn.functional as F\n",
    "# broadcast 11为12\n",
    "Y= torch.ones(1,2)\n",
    "loss = F.mse_loss(Y,O)\n",
    "loss.backward()\n",
    "W.grad"
   ]
  }
 ],
 "metadata": {
  "kernelspec": {
   "display_name": "Python 3 (ipykernel)",
   "language": "python",
   "name": "python3"
  },
  "language_info": {
   "codemirror_mode": {
    "name": "ipython",
    "version": 3
   },
   "file_extension": ".py",
   "mimetype": "text/x-python",
   "name": "python",
   "nbconvert_exporter": "python",
   "pygments_lexer": "ipython3",
   "version": "3.10.14"
  }
 },
 "nbformat": 4,
 "nbformat_minor": 5
}
