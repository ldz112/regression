{
 "cells": [
  {
   "cell_type": "code",
   "execution_count": 5,
   "id": "f20bc985",
   "metadata": {},
   "outputs": [],
   "source": [
    "import numpy as np\n",
    "# 定义样本数量, 方便调试\n",
    "nums = 100\n",
    "# 0-2之间的数\n",
    "x_p = 2 * np.random.rand(nums, 1)  \n",
    "# 定义一个 不管三七二十一 模型\n",
    "y = 3 * x_p + np.random.randn(nums, 1) + 7  \n",
    " \n",
    "b = np.ones((nums, 1))\n",
    "x = np.concatenate((x_p, b), 1)"
   ]
  },
  {
   "cell_type": "code",
   "execution_count": null,
   "id": "24e70298",
   "metadata": {},
   "outputs": [],
   "source": [
    "def lr_solver(x_list, y_list):\n",
    "    # 将list数据转换为矩阵\n",
    "    x_mat = np.asmatrix(x_list)\n",
    "    # 将矩阵转置\n",
    "    y_mat = np.asmatrix(y_list)\n",
    "    # 计算出x的转置*x\n",
    "    xTx = x_mat.T * x_mat\n",
    "    # 判断行列式值是否为0，为0则矩阵不可逆\n",
    "    if np.linalg.det(xTx) == 0.0:\n",
    "        print(\"矩阵不可逆\")\n",
    "        return\n",
    "    # 计算系数w的公式\n",
    "    w = xTx.I * (x_mat.T * y_mat)"
   ]
  },
  {
   "cell_type": "code",
   "execution_count": 7,
   "id": "41b1282b",
   "metadata": {},
   "outputs": [],
   "source": [
    "# 导入 scikit-learn 中的线性回归模型 pip install scikit-learn\n",
    "from sklearn.linear_model import LinearRegression\n",
    " \n",
    "def lib_solver(x_list, y_list):\n",
    "    lr_model = LinearRegression()\n",
    "    # 使用库求解\n",
    "    lr_model.fit(x_list, y_list)\n",
    " \n",
    "    # 这里为了验证结果，仅作事例，将输出结果简单化了\n",
    "    ar = np.array([lr_model.coef_[0][0], lr_model.intercept_[0]])\n",
    "    lib_w = np.asmatrix(ar).T\n",
    " \n",
    "    return lib_w"
   ]
  },
  {
   "cell_type": "code",
   "execution_count": null,
   "id": "4e3d02df",
   "metadata": {},
   "outputs": [],
   "source": [
    "# 导入matplotlib绘图库\n",
    "import matplotlib.pyplot as plt\n",
    " \n",
    "# 打印出散点图\n",
    "def ploter(x_mat, y_mat, w):\n",
    "    # 绘制散点图\n",
    "    plt.scatter(x_mat[:, 0].tolist(), y_mat.tolist())\n",
    "    # 绘制拟合直线图\n",
    "    plt.plot(x_mat[:, 0].tolist(), x_mat * w.tolist(), color='red')\n",
    "    plt.show()"
   ]
  },
  {
   "cell_type": "code",
   "execution_count": 8,
   "id": "8e6ac123",
   "metadata": {},
   "outputs": [
    {
     "ename": "NameError",
     "evalue": "name 'lr_solver' is not defined",
     "output_type": "error",
     "traceback": [
      "\u001b[1;31m---------------------------------------------------------------------------\u001b[0m",
      "\u001b[1;31mNameError\u001b[0m                                 Traceback (most recent call last)",
      "Cell \u001b[1;32mIn[8], line 2\u001b[0m\n\u001b[0;32m      1\u001b[0m \u001b[38;5;66;03m# 使用手动实现的求解器求解\u001b[39;00m\n\u001b[1;32m----> 2\u001b[0m w1 \u001b[38;5;241m=\u001b[39m \u001b[43mlr_solver\u001b[49m(x, y)\n\u001b[0;32m      3\u001b[0m \u001b[38;5;66;03m# 使用sklearn求解\u001b[39;00m\n\u001b[0;32m      4\u001b[0m w2 \u001b[38;5;241m=\u001b[39m lib_solver(x, y)\n",
      "\u001b[1;31mNameError\u001b[0m: name 'lr_solver' is not defined"
     ]
    }
   ],
   "source": [
    "# 使用手动实现的求解器求解\n",
    "w1 = lr_solver(x, y)\n",
    "# 使用sklearn求解\n",
    "w2 = lib_solver(x, y)\n",
    "print(w1)\n",
    "print(w2)\n",
    "# 图形展示\n",
    "ploter(np.asmatrix(x), np.asmatrix(y), w1)\n",
    "ploter(np.asmatrix(x), np.asmatrix(y), w2)"
   ]
  },
  {
   "cell_type": "code",
   "execution_count": null,
   "id": "9e7acd5e",
   "metadata": {},
   "outputs": [],
   "source": []
  }
 ],
 "metadata": {
  "kernelspec": {
   "display_name": "Python 3 (ipykernel)",
   "language": "python",
   "name": "python3"
  },
  "language_info": {
   "codemirror_mode": {
    "name": "ipython",
    "version": 3
   },
   "file_extension": ".py",
   "mimetype": "text/x-python",
   "name": "python",
   "nbconvert_exporter": "python",
   "pygments_lexer": "ipython3",
   "version": "3.10.14"
  }
 },
 "nbformat": 4,
 "nbformat_minor": 5
}
