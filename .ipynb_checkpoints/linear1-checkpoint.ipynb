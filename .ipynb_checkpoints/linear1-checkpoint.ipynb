{
 "cells": [
  {
   "cell_type": "code",
   "execution_count": 14,
   "id": "f20bc985",
   "metadata": {},
   "outputs": [],
   "source": [
    "import numpy as np\n",
    "# 定义样本数量, 方便调试\n",
    "nums = 100\n",
    "# 0-2之间的数\n",
    "x_p = 2 * np.random.rand(nums, 1)  \n",
    "# 定义一个模型\n",
    "y = 3 * x_p + np.random.randn(nums, 1) + 7  \n",
    " \n",
    "b = np.ones((nums, 1))\n",
    "x = np.concatenate((x_p, b), 1)"
   ]
  },
  {
   "cell_type": "code",
   "execution_count": 15,
   "id": "24e70298",
   "metadata": {},
   "outputs": [],
   "source": [
    "def lr_solver(x_list, y_list):\n",
    "    # 将list数据转换为矩阵\n",
    "    x_mat = np.asmatrix(x_list)\n",
    "    # 将矩阵转置\n",
    "    y_mat = np.asmatrix(y_list)\n",
    "    # 计算出x的转置*x\n",
    "    xTx = x_mat.T * x_mat\n",
    "    # 判断行列式值是否为0，为0则矩阵不可逆\n",
    "    if np.linalg.det(xTx) == 0.0:\n",
    "        print(\"矩阵不可逆\")\n",
    "        return\n",
    "    # 计算系数w的公式\n",
    "    w = xTx.I * (x_mat.T * y_mat)"
   ]
  },
  {
   "cell_type": "code",
   "execution_count": 16,
   "id": "41b1282b",
   "metadata": {},
   "outputs": [],
   "source": [
    "# 导入 scikit-learn 中的线性回归模型 pip install scikit-learn\n",
    "from sklearn.linear_model import LinearRegression\n",
    " \n",
    "def lib_solver(x_list, y_list):\n",
    "    lr_model = LinearRegression()\n",
    "    # 使用库求解\n",
    "    lr_model.fit(x_list, y_list)\n",
    " \n",
    "    # 这里为了验证结果，仅作事例，将输出结果简单化了\n",
    "    ar = np.array([lr_model.coef_[0][0], lr_model.intercept_[0]])\n",
    "    lib_w = np.asmatrix(ar).T\n",
    " \n",
    "    return lib_w"
   ]
  },
  {
   "cell_type": "code",
   "execution_count": 17,
   "id": "4e3d02df",
   "metadata": {},
   "outputs": [],
   "source": [
    "# 导入matplotlib绘图库\n",
    "import matplotlib.pyplot as plt\n",
    " \n",
    "# 打印出散点图\n",
    "def ploter(x_mat, y_mat, w):\n",
    "    # 绘制散点图\n",
    "    plt.scatter(x_mat[:, 0].tolist(), y_mat.tolist())\n",
    "    # 绘制拟合直线图\n",
    "    plt.plot(x_mat[:, 0].tolist(), x_mat * w.tolist(), color='red')\n",
    "    plt.show()"
   ]
  },
  {
   "cell_type": "code",
   "execution_count": 18,
   "id": "8e6ac123",
   "metadata": {},
   "outputs": [
    {
     "name": "stdout",
     "output_type": "stream",
     "text": [
      "None\n",
      "[[2.94899083]\n",
      " [6.98188829]]\n"
     ]
    },
    {
     "data": {
      "image/png": "[encoded data removed]",
      "text/plain": [
       "<Figure size 640x480 with 1 Axes>"
      ]
     },
     "metadata": {},
     "output_type": "display_data"
    }
   ],
   "source": [
    "# 使用手动实现的求解器求解\n",
    "w1 = lr_solver(x, y)\n",
    "# 使用sklearn求解\n",
    "w2 = lib_solver(x, y)\n",
    "print(w1)\n",
    "print(w2)\n",
    "# 图形展示\n",
    "# ploter(np.asmatrix(x), np.asmatrix(y), w1)\n",
    "ploter(np.asmatrix(x), np.asmatrix(y), w2)"
   ]
  },
  {
   "cell_type": "code",
   "execution_count": null,
   "id": "4f0909ea",
   "metadata": {},
   "outputs": [],
   "source": []
  }
 ],
 "metadata": {
  "kernelspec": {
   "display_name": "Python 3 (ipykernel)",
   "language": "python",
   "name": "python3"
  },
  "language_info": {
   "codemirror_mode": {
    "name": "ipython",
    "version": 3
   },
   "file_extension": ".py",
   "mimetype": "text/x-python",
   "name": "python",
   "nbconvert_exporter": "python",
   "pygments_lexer": "ipython3",
   "version": "3.10.14"
  }
 },
 "nbformat": 4,
 "nbformat_minor": 5
}
