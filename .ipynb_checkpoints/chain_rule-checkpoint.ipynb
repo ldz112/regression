{
 "cells": [
  {
   "cell_type": "code",
   "execution_count": 2,
   "id": "68d64267",
   "metadata": {},
   "outputs": [
    {
     "data": {
      "text/plain": [
       "tensor(2.)"
      ]
     },
     "execution_count": 2,
     "metadata": {},
     "output_type": "execute_result"
    }
   ],
   "source": [
    "import torch\n",
    "x=torch.tensor(1.)\n",
    "w1=torch.tensor(2.,requires_grad=True)\n",
    "b1=torch.tensor(1.)\n",
    "w2=torch.tensor(2.,requires_grad=True)\n",
    "b2=torch.tensor(1.)\n",
    "\n",
    "y1=w1*x+b1\n",
    "y2=w2*y1+b2\n",
    "\n",
    "dy2_dy1=torch.autograd.grad(y2,[y1],retain_graph=True)[0]\n",
    "dy1_dw1=torch.autograd.grad(y1,[w1],retain_graph=True)[0]\n",
    "dy2_dy1*dy1_dw1"
   ]
  },
  {
   "cell_type": "code",
   "execution_count": 3,
   "id": "359f4882",
   "metadata": {},
   "outputs": [
    {
     "data": {
      "text/plain": [
       "tensor(2.)"
      ]
     },
     "execution_count": 3,
     "metadata": {},
     "output_type": "execute_result"
    }
   ],
   "source": [
    "dy2_dw1=torch.autograd.grad(y2,[w1],retain_graph=True)[0]\n",
    "dy2_dw1"
   ]
  }
 ],
 "metadata": {
  "kernelspec": {
   "display_name": "Python 3 (ipykernel)",
   "language": "python",
   "name": "python3"
  },
  "language_info": {
   "codemirror_mode": {
    "name": "ipython",
    "version": 3
   },
   "file_extension": ".py",
   "mimetype": "text/x-python",
   "name": "python",
   "nbconvert_exporter": "python",
   "pygments_lexer": "ipython3",
   "version": "3.10.14"
  }
 },
 "nbformat": 4,
 "nbformat_minor": 5
}
