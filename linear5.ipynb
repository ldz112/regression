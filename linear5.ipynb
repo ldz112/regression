{
 "cells": [
  {
   "cell_type": "code",
   "execution_count": 14,
   "id": "5592c087",
   "metadata": {},
   "outputs": [],
   "source": [
    "import numpy as np\n",
    "\n",
    "# y=wx+b\n",
    "def compute_error_for_line_given_points(b, w, points):\n",
    "    totalError =0\n",
    "    # 均方误差\n",
    "    for i in range(0,len(points)):\n",
    "        x= points[i,0]\n",
    "        y= points[i,1]\n",
    "        totalError +=(y-(w*x+b))** 2\n",
    "    return totalError /float(len(points))"
   ]
  },
  {
   "cell_type": "code",
   "execution_count": 15,
   "id": "db752a37",
   "metadata": {},
   "outputs": [],
   "source": [
    "def step_gradient(b_current, w_current, points, learningRate):\n",
    "    b_gradient=0\n",
    "    w_gradient=0\n",
    "    N= float(len(points))\n",
    "    for i in range(0,len(points)):\n",
    "        x= points[i,0]\n",
    "        y= points[i,1]\n",
    "        # -y,所以前面有-号\n",
    "        b_gradient += -(2/N)*(y-((w_current *x)+ b_current))\n",
    "        w_gradient += -(2/N)*x*(y-((w_current * x)+ b_current))\n",
    "    new_b = b_current-(learningRate * b_gradient)\n",
    "    # 一次梯度下降\n",
    "    new_w = w_current-(learningRate * w_gradient)\n",
    "    return [new_b, new_w]"
   ]
  },
  {
   "cell_type": "code",
   "execution_count": 16,
   "id": "d937aeae",
   "metadata": {},
   "outputs": [],
   "source": [
    "def gradient_descent_runner(points, starting_b, starting_m,learning_rate, num_iterations):\n",
    "    b = starting_b\n",
    "    m = starting_m\n",
    "    for i in range(num_iterations):\n",
    "        b,m=step_gradient(b,m,np.array(points),learning_rate)\n",
    "    return [b, m]"
   ]
  },
  {
   "cell_type": "code",
   "execution_count": 24,
   "id": "893131f7",
   "metadata": {},
   "outputs": [],
   "source": [
    "def run():\n",
    "    points =np.genfromtxt(\"data.csv\",delimiter=\",\")\n",
    "    learning_rate =0.0001\n",
    "    initial_b=0# initial y-intercept guess\n",
    "    initial_w=0# initial slope guess\n",
    "    num_iterations =100\n",
    "    print(\"Starting gradient descent at b = {0},m = {1}, error = {2}\"\n",
    "          .format(initial_b, initial_w,compute_error_for_line_given_points(initial_b, initial_w, points)))\n",
    "    print(\"Running...\")\n",
    "    [b,m]= gradient_descent_runner(points, initial_b, initial_w, learning_rate, num_iterations)\n",
    "    print(\"After {0} iterations b = {1},m = {2},error = {3}\"\n",
    "          .format(num_iterations,b,m,compute_error_for_line_given_points(b,m, points)))\n"
   ]
  },
  {
   "cell_type": "code",
   "execution_count": 25,
   "id": "09ca1bc9",
   "metadata": {},
   "outputs": [
    {
     "name": "stdout",
     "output_type": "stream",
     "text": [
      "Starting gradient descent at b = 0,m = 0, error = 5914.6349146022785\n",
      "Running...\n",
      "After 100 iterations b = 0.029984661078365366,m = 1.4613397390615936,error = 87.92677718822712\n"
     ]
    }
   ],
   "source": [
    "if __name__ == '__main__':\n",
    "    run()"
   ]
  }
 ],
 "metadata": {
  "kernelspec": {
   "display_name": "Python 3 (ipykernel)",
   "language": "python",
   "name": "python3"
  },
  "language_info": {
   "codemirror_mode": {
    "name": "ipython",
    "version": 3
   },
   "file_extension": ".py",
   "mimetype": "text/x-python",
   "name": "python",
   "nbconvert_exporter": "python",
   "pygments_lexer": "ipython3",
   "version": "3.10.14"
  }
 },
 "nbformat": 4,
 "nbformat_minor": 5
}
