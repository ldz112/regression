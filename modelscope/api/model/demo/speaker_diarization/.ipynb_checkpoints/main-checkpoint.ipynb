{
 "cells": [
  {
   "cell_type": "code",
   "execution_count": 3,
   "id": "08bf964a",
   "metadata": {},
   "outputs": [
    {
     "name": "stdout",
     "output_type": "stream",
     "text": [
      "Downloading Model from https://www.modelscope.cn to directory: C:\\Users\\ldz11\\.cache\\modelscope\\hub\\models\\mirror013\\speaker-diarization-3.1\n"
     ]
    },
    {
     "name": "stderr",
     "output_type": "stream",
     "text": [
      "2025-03-20 11:51:57,053 - modelscope - INFO - Creating symbolic link [C:\\Users\\ldz11\\.cache\\modelscope\\hub\\models\\mirror013\\speaker-diarization-3.1].\n",
      "2025-03-20 11:51:57,056 - modelscope - WARNING - Failed to create symbolic link C:\\Users\\ldz11\\.cache\\modelscope\\hub\\models\\mirror013\\speaker-diarization-3.1 for C:\\Users\\ldz11\\.cache\\modelscope\\hub\\models\\mirror013\\speaker-diarization-3.1\\mirror013\\speaker-diarization-3___1.\n"
     ]
    }
   ],
   "source": [
    "from modelscope import snapshot_download\n",
    "model_name= \"mirror013/speaker-diarization-3.1\"\n",
    "model_dir = snapshot_download(model_name)\n",
    "\n",
    "# from transformers import AutoModelForCausalLM,AutoTokenizer\n",
    "# from huggingface_hub import login\n",
    "\n",
    "# login(token=\"\")\n",
    "\n",
    "# # model_name= \"pyannote/speaker-diarization-3.1\"\n",
    "# # cache_dir=\"model/pyannote/speaker-diarization-3.1\"\n",
    "# # AutoModelForCausalLM.from_pretrained(model_name,cache_dir=cache_dir)\n",
    "# segmentation_model_name=\"pyannote/segmentation-3.0\"\n",
    "# segmentation_cache_dir=\"model/pyannote/segmentation-3.0\"\n",
    "# AutoModelForCausalLM.from_pretrained(segmentation_model_name,cache_dir=segmentation_cache_dir)\n",
    "\n",
    "# from pyannote.audio import Model\n",
    "# model = Model.from_pretrained(\n",
    "#   \"pyannote/segmentation-3.0\", \n",
    "#   use_auth_token=\"\")\n"
   ]
  },
  {
   "cell_type": "code",
   "execution_count": 4,
   "id": "036e60d7",
   "metadata": {},
   "outputs": [
    {
     "name": "stderr",
     "output_type": "stream",
     "text": [
      "INFO:speechbrain.utils.quirks:Applied quirks (see `speechbrain.utils.quirks`): [disable_jit_profiling, allow_tf32]\n",
      "INFO:speechbrain.utils.quirks:Excluded quirks specified by the `SB_DISABLE_QUIRKS` environment (comma-separated list): []\n",
      "D:\\Program Files\\miniconda\\lib\\inspect.py:869: UserWarning: Module 'speechbrain.pretrained' was deprecated, redirecting to 'speechbrain.inference'. Please update your script. This is a change from SpeechBrain 1.0. See: https://github.com/speechbrain/speechbrain/releases/tag/v1.0.0\n",
      "  if ismodule(module) and hasattr(module, '__file__'):\n"
     ]
    },
    {
     "data": {
      "application/vnd.jupyter.widget-view+json": {
       "model_id": "cdaa70e9891d4dd99eb19a04dc54d54d",
       "version_major": 2,
       "version_minor": 0
      },
      "text/plain": [
       "pytorch_model.bin:   0%|          | 0.00/26.6M [00:00<?, ?B/s]"
      ]
     },
     "metadata": {},
     "output_type": "display_data"
    },
    {
     "name": "stderr",
     "output_type": "stream",
     "text": [
      "D:\\Program Files\\miniconda\\lib\\site-packages\\huggingface_hub\\file_download.py:142: UserWarning: `huggingface_hub` cache-system uses symlinks by default to efficiently store duplicated files but your machine does not support them in C:\\Users\\ldz11\\.cache\\torch\\pyannote\\models--pyannote--wespeaker-voxceleb-resnet34-LM. Caching files will still work but in a degraded version that might require more space on your disk. This warning can be disabled by setting the `HF_HUB_DISABLE_SYMLINKS_WARNING` environment variable. For more details, see https://huggingface.co/docs/huggingface_hub/how-to-cache#limitations.\n",
      "To support symlinks on Windows, you either need to activate Developer Mode or to run Python as an administrator. In order to activate developer mode, see this article: https://docs.microsoft.com/en-us/windows/apps/get-started/enable-your-device-for-development\n",
      "  warnings.warn(message)\n"
     ]
    },
    {
     "data": {
      "application/vnd.jupyter.widget-view+json": {
       "model_id": "9af3c83fb3ba45d7948d4b57e05dddb5",
       "version_major": 2,
       "version_minor": 0
      },
      "text/plain": [
       "config.yaml:   0%|          | 0.00/221 [00:00<?, ?B/s]"
      ]
     },
     "metadata": {},
     "output_type": "display_data"
    },
    {
     "name": "stderr",
     "output_type": "stream",
     "text": [
      "D:\\Program Files\\miniconda\\lib\\site-packages\\pyannote\\audio\\models\\blocks\\pooling.py:104: UserWarning: std(): degrees of freedom is <= 0. Correction should be strictly less than the reduction factor (input numel divided by output numel). (Triggered internally at C:\\actions-runner\\_work\\pytorch\\pytorch\\builder\\windows\\pytorch\\aten\\src\\ATen\\native\\ReduceOps.cpp:1823.)\n",
      "  std = sequences.std(dim=-1, correction=1)\n"
     ]
    },
    {
     "data": {
      "image/png": "[encoded data removed]",
      "text/plain": [
       "<pyannote.core.annotation.Annotation at 0x1a03b90cbe0>"
      ]
     },
     "execution_count": 4,
     "metadata": {},
     "output_type": "execute_result"
    }
   ],
   "source": [
    "# from modelscope import AutoModelForCausalLM\n",
    "\n",
    "# model = AutoModelForCausalLM.from_pretrained(model_name,\n",
    "#                                              torch_dtype=\"auto\",\n",
    "#                                              device_map=\"auto\"\n",
    "#                                             )\n",
    "from pyannote.audio import Pipeline\n",
    "pipeline = Pipeline.from_pretrained(\n",
    "  \"pyannote/speaker-diarization-3.1\",\n",
    "  use_auth_token=\"\")\n",
    "\n",
    "# run the pipeline on an audio file\n",
    "diarization = pipeline(\"2speakers_example.wav\")\n",
    "diarization"
   ]
  },
  {
   "cell_type": "code",
   "execution_count": 14,
   "id": "d9eabcde",
   "metadata": {},
   "outputs": [
    {
     "name": "stdout",
     "output_type": "stream",
     "text": [
      "['SPEAKER_00', 'SPEAKER_01']\n",
      "0.2:23.3\n",
      "24.1:31.9\n",
      "32.3:35.0\n",
      "35.0:40.9\n",
      "40.9:43.2\n",
      "43.5:48.4\n",
      "48.5:51.6\n"
     ]
    }
   ],
   "source": [
    "labels = diarization.labels()\n",
    "print(labels)\n",
    "\n",
    "for segment,track in diarization.itertracks():\n",
    "    print(f'{segment.start:.1f}:{segment.end:.1f}')"
   ]
  },
  {
   "cell_type": "code",
   "execution_count": 15,
   "id": "a72c52b6",
   "metadata": {},
   "outputs": [],
   "source": [
    "# 剪辑wav片段\n",
    "def extract_audio_segment(input_wav, output_wav, start_time, end_time):\n",
    "    \"\"\"\n",
    "    从 WAV 文件中截取某一段音频并保存为新的 WAV 文件。\n",
    "\n",
    "    参数:\n",
    "    input_wav (str): 输入的 WAV 文件路径。\n",
    "    output_wav (str): 输出的截取后的 WAV 文件路径。\n",
    "    start_time (float): 截取的起始时间，以秒为单位。\n",
    "    end_time (float): 截取的结束时间，以秒为单位。\n",
    "    \"\"\"\n",
    "    try:\n",
    "        (\n",
    "            ffmpeg\n",
    "            .input(input_wav, ss=start_time, to=end_time)\n",
    "            .output(output_wav)\n",
    "            .run(overwrite_output=True)\n",
    "        )\n",
    "        print(f\"截取的音频已保存到 {output_wav}\")\n",
    "    except ffmpeg.Error as e:\n",
    "        print(f\"Error: {e.stderr.decode()}\")"
   ]
  },
  {
   "cell_type": "code",
   "execution_count": null,
   "id": "7e69f79c",
   "metadata": {},
   "outputs": [],
   "source": [
    "# from modelscope.pipelines import pipeline\n",
    "# sd_pipeline = pipeline(\n",
    "#     task='speaker-diarization',\n",
    "#     model=model\n",
    "# )\n",
    "# sd_result = pipeline(\"2speakers_example.wav\")\n",
    "# sd_result"
   ]
  },
  {
   "cell_type": "code",
   "execution_count": null,
   "id": "4b90431c",
   "metadata": {},
   "outputs": [],
   "source": [
    "# API_URL=\"https://api-inference.huggingface.co/models/${模型名}\"\n",
    "\n",
    "# API_TOKEN=\"\"\n",
    "\n",
    "# headers={\"Authorization\":f\"Bearer {API_TOKEN}\"}\n",
    "\n",
    "# import requests\n",
    "# response = requests.post(API_URL,json={\"inputs\":\"讲个笑话\"})\n",
    "\n"
   ]
  },
  {
   "cell_type": "code",
   "execution_count": null,
   "id": "73e22b37",
   "metadata": {},
   "outputs": [],
   "source": [
    "# from transformers import AutoModelForCausalLM,AutoTokenizer\n",
    "\n",
    "# cache_dir=\"model/\"+model_name\n",
    "# AutoModelForCausalLM.from_pretrained(model_nameel,cache_dir=cache_dir)\n",
    "# AutoTokenizer.from_pretrained(model_nameel,cache_dir=cache_dir)\n",
    "\n",
    "\n",
    "# //gpt2-chinese\n",
    "# model_dir=r'D:\\'"
   ]
  }
 ],
 "metadata": {
  "kernelspec": {
   "display_name": "Python 3 (ipykernel)",
   "language": "python",
   "name": "python3"
  },
  "language_info": {
   "codemirror_mode": {
    "name": "ipython",
    "version": 3
   },
   "file_extension": ".py",
   "mimetype": "text/x-python",
   "name": "python",
   "nbconvert_exporter": "python",
   "pygments_lexer": "ipython3",
   "version": "3.10.14"
  }
 },
 "nbformat": 4,
 "nbformat_minor": 5
}
