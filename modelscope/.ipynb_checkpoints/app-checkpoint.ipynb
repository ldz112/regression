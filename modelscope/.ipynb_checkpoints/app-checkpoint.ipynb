{
 "cells": [
  {
   "cell_type": "code",
   "execution_count": 4,
   "id": "80d453f5",
   "metadata": {},
   "outputs": [
    {
     "name": "stdout",
     "output_type": "stream",
     "text": [
      " * Serving Flask app '__main__'\n",
      " * Debug mode: off\n"
     ]
    },
    {
     "name": "stderr",
     "output_type": "stream",
     "text": [
      "WARNING: This is a development server. Do not use it in a production deployment. Use a production WSGI server instead.\n",
      " * Running on all addresses (0.0.0.0)\n",
      " * Running on http://127.0.0.1:8081\n",
      " * Running on http://10.0.0.64:8081\n",
      "Press CTRL+C to quit\n",
      "[2025-03-18 15:42:07,715] ERROR in app: Exception on / [GET]\n",
      "Traceback (most recent call last):\n",
      "  File \"D:\\Program Files\\miniconda\\lib\\site-packages\\flask\\app.py\", line 1473, in wsgi_app\n",
      "    response = self.full_dispatch_request()\n",
      "  File \"D:\\Program Files\\miniconda\\lib\\site-packages\\flask\\app.py\", line 882, in full_dispatch_request\n",
      "    rv = self.handle_user_exception(e)\n",
      "  File \"D:\\Program Files\\miniconda\\lib\\site-packages\\flask\\app.py\", line 880, in full_dispatch_request\n",
      "    rv = self.dispatch_request()\n",
      "  File \"D:\\Program Files\\miniconda\\lib\\site-packages\\flask\\app.py\", line 865, in dispatch_request\n",
      "    return self.ensure_sync(self.view_functions[rule.endpoint])(**view_args)  # type: ignore[no-any-return]\n",
      "  File \"C:\\Users\\ldz11\\AppData\\Local\\Temp\\ipykernel_29228\\773846934.py\", line 8, in index\n",
      "    return render_template(\"index.html\")\n",
      "  File \"D:\\Program Files\\miniconda\\lib\\site-packages\\flask\\templating.py\", line 149, in render_template\n",
      "    template = app.jinja_env.get_or_select_template(template_name_or_list)\n",
      "  File \"D:\\Program Files\\miniconda\\lib\\site-packages\\jinja2\\environment.py\", line 1087, in get_or_select_template\n",
      "    return self.get_template(template_name_or_list, parent, globals)\n",
      "  File \"D:\\Program Files\\miniconda\\lib\\site-packages\\jinja2\\environment.py\", line 1016, in get_template\n",
      "    return self._load_template(name, globals)\n",
      "  File \"D:\\Program Files\\miniconda\\lib\\site-packages\\jinja2\\environment.py\", line 975, in _load_template\n",
      "    template = self.loader.load(self, name, self.make_globals(globals))\n",
      "  File \"D:\\Program Files\\miniconda\\lib\\site-packages\\jinja2\\loaders.py\", line 126, in load\n",
      "    source, filename, uptodate = self.get_source(environment, name)\n",
      "  File \"D:\\Program Files\\miniconda\\lib\\site-packages\\flask\\templating.py\", line 65, in get_source\n",
      "    return self._get_source_fast(environment, template)\n",
      "  File \"D:\\Program Files\\miniconda\\lib\\site-packages\\flask\\templating.py\", line 96, in _get_source_fast\n",
      "    return loader.get_source(environment, template)\n",
      "  File \"D:\\Program Files\\miniconda\\lib\\site-packages\\jinja2\\loaders.py\", line 215, in get_source\n",
      "    contents = f.read()\n",
      "  File \"D:\\Program Files\\miniconda\\lib\\codecs.py\", line 322, in decode\n",
      "    (result, consumed) = self._buffer_decode(data, self.errors, final)\n",
      "UnicodeDecodeError: 'utf-8' codec can't decode byte 0xc9 in position 380: invalid continuation byte\n",
      "127.0.0.1 - - [18/Mar/2025 15:42:07] \"GET / HTTP/1.1\" 500 -\n",
      "127.0.0.1 - - [18/Mar/2025 15:44:46] \"GET / HTTP/1.1\" 200 -\n",
      "127.0.0.1 - - [18/Mar/2025 15:46:00] \"GET /_coverpage.md HTTP/1.1\" 404 -\n",
      "127.0.0.1 - - [18/Mar/2025 15:46:00] \"GET /README.md HTTP/1.1\" 404 -\n",
      "127.0.0.1 - - [18/Mar/2025 15:46:00] \"GET /_navbar.md HTTP/1.1\" 404 -\n",
      "127.0.0.1 - - [18/Mar/2025 15:46:00] \"GET /_404.md HTTP/1.1\" 404 -\n"
     ]
    }
   ],
   "source": [
    "from flask import (Flask,render_template,send_from_directory)\n",
    " \n",
    "app = Flask(__name__)\n",
    " \n",
    " \n",
    "@app.route(\"/\")\n",
    "def index():\n",
    "    return render_template(\"index.html\")\n",
    " \n",
    "@app.route(\"/favicon.ico\")\n",
    "def favicon():\n",
    "    return send_from_directory(\n",
    "        os.path.join(app.root_path, \"static\"),\n",
    "        \"favicon.ico\",\n",
    "        mimetype=\"image/vnd.microsoft.icon\",\n",
    "    )\n",
    " \n",
    "app.run('0.0.0.0', 8081, debug=True)"
   ]
  },
  {
   "cell_type": "code",
   "execution_count": null,
   "id": "c63c4cb5",
   "metadata": {},
   "outputs": [],
   "source": []
  }
 ],
 "metadata": {
  "kernelspec": {
   "display_name": "Python 3 (ipykernel)",
   "language": "python",
   "name": "python3"
  },
  "language_info": {
   "codemirror_mode": {
    "name": "ipython",
    "version": 3
   },
   "file_extension": ".py",
   "mimetype": "text/x-python",
   "name": "python",
   "nbconvert_exporter": "python",
   "pygments_lexer": "ipython3",
   "version": "3.10.14"
  }
 },
 "nbformat": 4,
 "nbformat_minor": 5
}
