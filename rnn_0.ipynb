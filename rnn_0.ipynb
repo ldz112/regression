{
 "cells": [
  {
   "cell_type": "code",
   "execution_count": 15,
   "id": "f2fe7ac4",
   "metadata": {},
   "outputs": [
    {
     "data": {
      "text/plain": [
       "array([ 0.84147098, -0.35078323, -0.2794155 ,  0.79848711, -0.99999021])"
      ]
     },
     "execution_count": 15,
     "metadata": {},
     "output_type": "execute_result"
    }
   ],
   "source": [
    "import  numpy as np\n",
    "num_time_steps = 5\n",
    "start = np.random.randint(3, size=1)[0]\n",
    "time_steps = np.linspace(start, start + 10, num_time_steps) #在[start,start+10]区间均匀地取num_points个点\n",
    "data = np.sin(time_steps)\n",
    "data"
   ]
  },
  {
   "cell_type": "code",
   "execution_count": 16,
   "id": "19b1c4a8",
   "metadata": {},
   "outputs": [
    {
     "data": {
      "text/plain": [
       "array([[ 0.84147098],\n",
       "       [-0.35078323],\n",
       "       [-0.2794155 ],\n",
       "       [ 0.79848711]])"
      ]
     },
     "execution_count": 16,
     "metadata": {},
     "output_type": "execute_result"
    }
   ],
   "source": [
    "data = data.reshape(num_time_steps, 1)\n",
    "data[:-1]"
   ]
  },
  {
   "cell_type": "code",
   "execution_count": 3,
   "id": "9d776132",
   "metadata": {},
   "outputs": [
    {
     "name": "stdout",
     "output_type": "stream",
     "text": [
      "dict_keys(['weight_ih_l0', 'weight_hh_l0', 'bias_ih_l0', 'bias_hh_l0'])\n",
      "weight_ih_l0: torch.Size([20, 100]) weight_hh_l0: torch.Size([20, 20]) torch.Size([20]) torch.Size([20])\n",
      "torch.Size([10, 3, 20]) torch.Size([1, 3, 20])\n",
      "torch.Size([3, 20])\n",
      "torch.Size([3, 20])\n"
     ]
    }
   ],
   "source": [
    "from torch import nn\n",
    "import torch\n",
    "\n",
    "# 1层的RNN一次性进入\n",
    "rnn = nn.RNN(input_size=100, hidden_size=20, num_layers=1)  # 这里是一层RNN\n",
    "print(rnn._parameters.keys())  # 网络中的变量为W和b，即以下四个\n",
    "print('weight_ih_l0:',rnn.weight_ih_l0.shape, 'weight_hh_l0:',rnn.weight_hh_l0.shape,\n",
    "      rnn.bias_ih_l0.shape, rnn.bias_hh_l0.shape,\n",
    "      )\n",
    "x = torch.randn(10, 3, 100)\n",
    "h0 = torch.zeros(1, 3, 20)\n",
    "out, ht = rnn(x, h0)\n",
    "print(out.shape, ht.shape)\n",
    "# 1层的RNN分批次进入\n",
    "cell1 = nn.RNNCell(100,20,)\n",
    "h1 = torch.zeros(3,20)  # batchsize是3\n",
    "for xt in x:\n",
    "      h1 = cell1(xt,h1)\n",
    "print(h1.shape)\n",
    "# 2层的RNN分批次进入\n",
    "cell1 = nn.RNNCell(100, 30)\n",
    "h1 = torch.zeros(3, 30)\n",
    "cell2 = nn.RNNCell(30, 20)\n",
    "h2 = torch.zeros(3, 20)\n",
    "for xt in x:\n",
    "      h1 = cell1(xt, h1)\n",
    "      h2 = cell2(h1, h2)\n",
    "print(h2.shape)"
   ]
  },
  {
   "cell_type": "code",
   "execution_count": null,
   "id": "3a4073bb",
   "metadata": {},
   "outputs": [],
   "source": []
  }
 ],
 "metadata": {
  "kernelspec": {
   "display_name": "Python 3 (ipykernel)",
   "language": "python",
   "name": "python3"
  },
  "language_info": {
   "codemirror_mode": {
    "name": "ipython",
    "version": 3
   },
   "file_extension": ".py",
   "mimetype": "text/x-python",
   "name": "python",
   "nbconvert_exporter": "python",
   "pygments_lexer": "ipython3",
   "version": "3.10.14"
  }
 },
 "nbformat": 4,
 "nbformat_minor": 5
}
