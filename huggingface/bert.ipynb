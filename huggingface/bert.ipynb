{
 "cells": [
  {
   "cell_type": "code",
   "execution_count": null,
   "id": "185381a5",
   "metadata": {},
   "outputs": [
    {
     "data": {
      "application/vnd.jupyter.widget-view+json": {
       "model_id": "7f67c9fbfc524d9f9a93dbcb56c9e440",
       "version_major": 2,
       "version_minor": 0
      },
      "text/plain": [
       "config.json:   0%|          | 0.00/624 [00:00<?, ?B/s]"
      ]
     },
     "metadata": {},
     "output_type": "display_data"
    },
    {
     "name": "stderr",
     "output_type": "stream",
     "text": [
      "D:\\Program Files\\miniconda\\lib\\site-packages\\huggingface_hub\\file_download.py:142: UserWarning: `huggingface_hub` cache-system uses symlinks by default to efficiently store duplicated files but your machine does not support them in D:\\Workspace\\regression\\huggingface\\model\\bert-base-chinese\\models--bert-base-chinese. Caching files will still work but in a degraded version that might require more space on your disk. This warning can be disabled by setting the `HF_HUB_DISABLE_SYMLINKS_WARNING` environment variable. For more details, see https://huggingface.co/docs/huggingface_hub/how-to-cache#limitations.\n",
      "To support symlinks on Windows, you either need to activate Developer Mode or to run Python as an administrator. In order to activate developer mode, see this article: https://docs.microsoft.com/en-us/windows/apps/get-started/enable-your-device-for-development\n",
      "  warnings.warn(message)\n"
     ]
    },
    {
     "data": {
      "application/vnd.jupyter.widget-view+json": {
       "model_id": "99d4575933334633b4dedb8283877253",
       "version_major": 2,
       "version_minor": 0
      },
      "text/plain": [
       "model.safetensors:   0%|          | 0.00/412M [00:00<?, ?B/s]"
      ]
     },
     "metadata": {},
     "output_type": "display_data"
    }
   ],
   "source": [
    "from transformers import BertTokenizer,BertForSequenceClassification\n",
    "model_name=\"bert-base-chinese\"\n",
    "cache_dir=\"model/\"+model_name\n",
    "\n",
    "modle=BertForSequenceClassification.from_pretrained(model_name,cache_dir=cache_dir)\n",
    "tokenizer = BertTokenizer.from_pretrained(model_name,cache_dir=cache_dir)"
   ]
  },
  {
   "cell_type": "code",
   "execution_count": 6,
   "id": "ae5c92d7",
   "metadata": {},
   "outputs": [
    {
     "name": "stderr",
     "output_type": "stream",
     "text": [
      "Some weights of BertForSequenceClassification were not initialized from the model checkpoint at bert-base-chinese and are newly initialized: ['classifier.bias', 'classifier.weight']\n",
      "You should probably TRAIN this model on a down-stream task to be able to use it for predictions and inference.\n",
      "Device set to use cpu\n"
     ]
    },
    {
     "data": {
      "text/plain": [
       "[{'label': 'LABEL_0', 'score': 0.668422520160675}]"
      ]
     },
     "execution_count": 6,
     "metadata": {},
     "output_type": "execute_result"
    }
   ],
   "source": [
    "from transformers import AutoTokenizer, AutoModelForMaskedLM,pipeline\n",
    "\n",
    "tokenizer = BertTokenizer.from_pretrained(model_name)\n",
    "\n",
    "model = BertForSequenceClassification.from_pretrained(model_name)\n",
    "\n",
    "print(model)\n",
    "\n",
    "classifier =pipeline(\"text-classification\",model = model, tokenizer = tokenizer,device=\"cpu\")\n",
    "result=classifier(\"你好,我是语言模型\")\n",
    "result"
   ]
  },
  {
   "cell_type": "code",
   "execution_count": 10,
   "id": "59d37ce2",
   "metadata": {},
   "outputs": [
    {
     "name": "stdout",
     "output_type": "stream",
     "text": [
      "input_ids : [[101, 8228, 11285, 11789, 8180, 119, 9806, 8370, 142, 9447, 10802, 142, 8514, 3221, 671, 702, 2487, 1920, 4638, 2339, 1072, 102, 0, 0, 0, 0, 0, 0, 0, 0], [101, 4500, 754, 2199, 3152, 3315, 3144, 2945, 6760, 2940, 711, 3563, 1798, 1377, 2970, 1358, 4638, 3419, 2466, 102, 0, 0, 0, 0, 0, 0, 0, 0, 0, 0]]\n",
      "token_type_ids : [[0, 0, 0, 0, 0, 0, 0, 0, 0, 0, 0, 0, 0, 0, 0, 0, 0, 0, 0, 0, 0, 0, 0, 0, 0, 0, 0, 0, 0, 0], [0, 0, 0, 0, 0, 0, 0, 0, 0, 0, 0, 0, 0, 0, 0, 0, 0, 0, 0, 0, 0, 0, 0, 0, 0, 0, 0, 0, 0, 0]]\n",
      "attention_mask : [[1, 1, 1, 1, 1, 1, 1, 1, 1, 1, 1, 1, 1, 1, 1, 1, 1, 1, 1, 1, 1, 1, 0, 0, 0, 0, 0, 0, 0, 0], [1, 1, 1, 1, 1, 1, 1, 1, 1, 1, 1, 1, 1, 1, 1, 1, 1, 1, 1, 1, 0, 0, 0, 0, 0, 0, 0, 0, 0, 0]]\n",
      "[CLS] tokenizer. batch _ encode _ plus 是 一 个 强 大 的 工 具 [SEP] [PAD] [PAD] [PAD] [PAD] [PAD] [PAD] [PAD] [PAD] [CLS] 用 于 将 文 本 数 据 转 换 为 模 型 可 接 受 的 格 式 [SEP] [PAD] [PAD] [PAD] [PAD] [PAD] [PAD] [PAD] [PAD] [PAD] [PAD]\n"
     ]
    }
   ],
   "source": [
    "sents=[\"tokenizer.batch_encode_plus 是一个强大的工具\",\"用于将文本数据转换为模型可接受的格式\",\"通过合理设置参数（如 padding、truncation 和 max_length）\",\"你可以轻松处理各种文本输入\",\"并将其用于训练或推理任务\"]\n",
    "# 批量编码句子\n",
    "out = tokenizer.batch_encode_plus(\n",
    "    batch_text_or_text_pairs=[sents[0],sents[1]],  # 输入文本列表\n",
    "    add_special_tokens=True,\n",
    "    padding=\"max_length\",  # 填充到最大长度\n",
    "    truncation=True,       # 截断超过最大长度的序列\n",
    "    max_length=30,         # 最大长度为 10\n",
    "    return_tensors=None,   # 返回 PyTorch 张量  pt np tf,默认为list\n",
    "    return_attention_mask=True,  # 返回 attention mask \n",
    "    return_token_type_ids=True   # 返回 token 类型 ID\n",
    "    )\n",
    "\n",
    "for k,v in out.items():\n",
    "    print(k,\":\",v)\n",
    "    \n",
    "print(tokenizer.decode(out[\"input_ids\"][0]),tokenizer.decode(out[\"input_ids\"][1]))"
   ]
  },
  {
   "cell_type": "code",
   "execution_count": 12,
   "id": "ddb0fbd3",
   "metadata": {},
   "outputs": [
    {
     "name": "stdout",
     "output_type": "stream",
     "text": [
      "True\n"
     ]
    }
   ],
   "source": [
    "vocab =tokenizer.get_vocab()\n",
    "tokenizer.add_tokens(new_tokens=[\"数据\",\"模型\"])\n",
    "tokenizer.add_special_tokens({\"eos_token\":\"[EOS]\"})\n",
    "len(vocab)\n",
    "print(\"数据\" in vocab)"
   ]
  },
  {
   "cell_type": "code",
   "execution_count": null,
   "id": "a6ff5322",
   "metadata": {},
   "outputs": [],
   "source": []
  }
 ],
 "metadata": {
  "kernelspec": {
   "display_name": "Python 3 (ipykernel)",
   "language": "python",
   "name": "python3"
  },
  "language_info": {
   "codemirror_mode": {
    "name": "ipython",
    "version": 3
   },
   "file_extension": ".py",
   "mimetype": "text/x-python",
   "name": "python",
   "nbconvert_exporter": "python",
   "pygments_lexer": "ipython3",
   "version": "3.10.14"
  }
 },
 "nbformat": 4,
 "nbformat_minor": 5
}
