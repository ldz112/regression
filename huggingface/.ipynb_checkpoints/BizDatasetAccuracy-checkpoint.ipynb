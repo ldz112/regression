{
 "cells": [
  {
   "cell_type": "code",
   "execution_count": null,
   "id": "b88d6628",
   "metadata": {},
   "outputs": [],
   "source": [
    "from torch.utils.data import Dataset\n",
    "from datasets import load_from_disk\n",
    "from transformers import BertModel\n",
    "import torch\n",
    "\n",
    "class BizDataset(Dataset):\n",
    "    def __init__(self,split):\n",
    "        self.dataset = load_from_disk(r\"D:\\Workspace\\regression\\huggingface\\dataset\")\n",
    "        if split==\"train\":\n",
    "            self.dataset=self.dataset[\"train\"]\n",
    "        elif split==\"test\":\n",
    "            self.dataset=self.dataset[\"test\"]\n",
    "        elif split==\"validation\":\n",
    "            self.dataset=self.dataset[\"validation\"]\n",
    "        else:\n",
    "            print(\"split is wrong\")\n",
    "           \n",
    "    def __len__(self):\n",
    "        return len(self.dataset)\n",
    "    \n",
    "    def __getitem__(self,item):\n",
    "        text = self.dataset[item][\"text\"]\n",
    "        label = self.dataset[item][\"label\"]\n",
    "        return text,label\n",
    "    \n",
    "DEVICE= torch.device(\"cuda\" if torch.cuda.is_available() else \"cpu\")\n",
    "# model_name=\"bert-base-chinese\"\n",
    "model_name=r\"D:\\Workspace\\regression\\huggingface\\model\\bert-base-chinese\\models--bert-base-chinese\\snapshots\\c30a6ed22ab4564dc1e3b2ecbf6e766b0611a33f\"\n",
    "\n",
    "pretrained = BertModel.from_pretrained(model_name).to(DEVICE)\n",
    "\n",
    "class Model(torch.nn.Module):\n",
    "    def __init__(self):\n",
    "        super().__init__()\n",
    "        self.fc = torch.nn.Linear(768,2)\n",
    "    # 前向推理运算\n",
    "    def forward(self,input_ids,attention_mask,token_type_ids):\n",
    "        with torch.no_grad():\n",
    "            out = pretrained(input_ids=input_ids,attention_mask= attention_mask,token_type_ids=token_type_ids)\n",
    "        \n",
    "        out= self.fc(out.last_hidden_state[:,0])\n",
    "        out = out.softmax(dim=1)\n",
    "        return out"
   ]
  },
  {
   "cell_type": "code",
   "execution_count": null,
   "id": "5e0caaa1",
   "metadata": {},
   "outputs": [],
   "source": [
    "from sklearn.metrics import accuracy_score\n",
    "from torch.utils.data import DataLoader\n",
    "\n",
    "test_ds= BizDataset(\"test\")\n",
    "test_loader = DataLoader(test_ds,batch_size=16,shuffle=False)\n",
    "model=Model().to(DEVICE)\n",
    "\n",
    "model.eval()\n",
    "predictions,true_labels=[],[]\n",
    "\n",
    "with torch.no_grad():\n",
    "    for batch in test_loader:\n",
    "        outputs = model(input_ids =batch[\"input_ids\"] ,attention_mask= batch[\"attention_mask\"],token_type_ids=batch[\"token_type_ids\"])\n",
    "        _,preds = torch.max(outputs,dim=1)\n",
    "        predictions.extend(preds.cpu().numpy())\n",
    "        true_labels.extend(batch[\"labels\"].cpu().numpy())\n",
    "\n",
    "accuracy = accuracy_score(true_labels,predictions)\n",
    "print(f\"Accuracy:{accuracy:.4f}\")"
   ]
  },
  {
   "cell_type": "code",
   "execution_count": null,
   "id": "78e7bfc4",
   "metadata": {},
   "outputs": [],
   "source": [
    "from sklearn.metrics import precision_score,recall_score,f1_score\n",
    "precision = precision_score(true_labels,predictions,average='weighted')\n",
    "print(f\"Accuracy:{accuracy:.4f}\")\n",
    "recall = recall_score(true_labels,predictions,average='weighted')\n",
    "print(f\"Recall:{recall:.4f}\")\n",
    "f1_score = f1_score(true_labels,predictions,average='weighted')\n",
    "print(f\"F1Score:{f1_score:.4f}\")"
   ]
  }
 ],
 "metadata": {
  "kernelspec": {
   "display_name": "Python 3 (ipykernel)",
   "language": "python",
   "name": "python3"
  },
  "language_info": {
   "codemirror_mode": {
    "name": "ipython",
    "version": 3
   },
   "file_extension": ".py",
   "mimetype": "text/x-python",
   "name": "python",
   "nbconvert_exporter": "python",
   "pygments_lexer": "ipython3",
   "version": "3.10.14"
  }
 },
 "nbformat": 4,
 "nbformat_minor": 5
}
