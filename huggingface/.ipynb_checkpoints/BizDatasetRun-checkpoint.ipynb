{
 "cells": [
  {
   "cell_type": "code",
   "execution_count": null,
   "id": "678b687a",
   "metadata": {},
   "outputs": [],
   "source": [
    "from transformers import BertModel,BertTokenizer\n",
    "import torch\n",
    "from torch.utils.data import Dataset,DataLoader\n",
    "from datasets import load_from_disk"
   ]
  },
  {
   "cell_type": "code",
   "execution_count": null,
   "id": "dfbf771e",
   "metadata": {},
   "outputs": [],
   "source": [
    "class Model(torch.nn.Module):\n",
    "    def __init__(self):\n",
    "        super().__init__()\n",
    "        self.fc = torch.nn.Linear(768,2)\n",
    "    # 前向推理运算\n",
    "    def forward(self,input_ids,attention_mask,token_type_ids):\n",
    "        with torch.no_grad():\n",
    "            out = pretrained(input_ids=input_ids,attention_mask= attention_mask,token_type_ids=token_type_ids)\n",
    "        \n",
    "        out= self.fc(out.last_hidden_state[:,0])\n",
    "        out = out.softmax(dim=1)\n",
    "        return out"
   ]
  },
  {
   "cell_type": "code",
   "execution_count": null,
   "id": "5c4de43a",
   "metadata": {},
   "outputs": [],
   "source": [
    "DEVICE= torch.device(\"cuda\" if torch.cuda.is_available() else \"cpu\")\n",
    "# model_name=\"bert-base-chinese\"\n",
    "model_name=r\"D:\\Workspace\\regression\\huggingface\\model\\bert-base-chinese\\models--bert-base-chinese\\snapshots\\c30a6ed22ab4564dc1e3b2ecbf6e766b0611a33f\"\n",
    "tokenizer = BertTokenizer.from_pretrained(model_name)\n",
    "pretrained = BertModel.from_pretrained(model_name).to(DEVICE)\n",
    "names=[\"负向评价\",\"正向评价\"]\n",
    "\n",
    "print(DEVICE)\n",
    "model=Model().to(DEVICE)"
   ]
  },
  {
   "cell_type": "code",
   "execution_count": null,
   "id": "57879a9d",
   "metadata": {},
   "outputs": [],
   "source": [
    "def collate_fn(data):\n",
    "    sentes = []\n",
    "    sentes.append(data)\n",
    "    \n",
    "    data = tokenizer.batch_encode_plus(\n",
    "        batch_text_or_text_pairs=sentes,\n",
    "        padding=\"max_length\",  # 填充到最大长度\n",
    "        truncation=True,       # 截断超过最大长度的序列\n",
    "        max_length=30,         # 最大长度为 10\n",
    "        return_length=True,\n",
    "        return_tensors=\"pt\",\n",
    "    )\n",
    "    input_ids = data[\"input_ids\"]\n",
    "    attention_mask = data[\"attention_mask\"]\n",
    "    token_type_ids = data[\"token_type_ids\"]\n",
    "    \n",
    "    return input_ids,attention_mask,token_type_ids"
   ]
  },
  {
   "cell_type": "code",
   "execution_count": null,
   "id": "8c42adca",
   "metadata": {},
   "outputs": [],
   "source": [
    "def test(data):\n",
    "    model.load_state_dict(torch.load(\"params/2bert.pt\"))\n",
    "    model.eval()\n",
    "    \n",
    "    input_ids,attention_mask,token_type_ids = collate_fn(data)\n",
    "    \n",
    "    input_ids,attention_mask,token_type_ids =  input_ids.to(DEVICE),attention_mask.to(DEVICE),token_type_ids.to(DEVICE)\n",
    "\n",
    "    with torch.no_grad():\n",
    "        out = model(input_ids=input_ids,attention_mask= attention_mask,token_type_ids=token_type_ids)\n",
    "        out = out.softmax(dim=1)\n",
    "        print（\"模型判定：\"names[out],\"\\n\"）\n",
    "        \n",
    "if __name__=='__main__':\n",
    "    test(\"酒店不好住啊\")"
   ]
  }
 ],
 "metadata": {
  "kernelspec": {
   "display_name": "Python 3 (ipykernel)",
   "language": "python",
   "name": "python3"
  },
  "language_info": {
   "codemirror_mode": {
    "name": "ipython",
    "version": 3
   },
   "file_extension": ".py",
   "mimetype": "text/x-python",
   "name": "python",
   "nbconvert_exporter": "python",
   "pygments_lexer": "ipython3",
   "version": "3.10.14"
  }
 },
 "nbformat": 4,
 "nbformat_minor": 5
}
