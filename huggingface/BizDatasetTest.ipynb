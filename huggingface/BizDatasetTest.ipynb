{
 "cells": [
  {
   "cell_type": "code",
   "execution_count": 1,
   "id": "9a91e17e",
   "metadata": {},
   "outputs": [],
   "source": [
    "from transformers import BertModel,BertTokenizer\n",
    "import torch\n",
    "from torch.utils.data import Dataset,DataLoader\n",
    "from datasets import load_from_disk"
   ]
  },
  {
   "cell_type": "code",
   "execution_count": 2,
   "id": "dbf26776",
   "metadata": {},
   "outputs": [],
   "source": [
    "class BizDataset(Dataset):\n",
    "    def __init__(self,split):\n",
    "        self.dataset = load_from_disk(r\"D:\\Workspace\\regression\\huggingface\\dataset\")\n",
    "        if split==\"train\":\n",
    "            self.dataset=self.dataset[\"train\"]\n",
    "        elif split==\"test\":\n",
    "            self.dataset=self.dataset[\"test\"]\n",
    "        elif split==\"validation\":\n",
    "            self.dataset=self.dataset[\"validation\"]\n",
    "        else:\n",
    "            print(\"split is wrong\")\n",
    "           \n",
    "    def __len__(self):\n",
    "        return len(self.dataset)\n",
    "    \n",
    "    def __getitem__(self,item):\n",
    "        text = self.dataset[item][\"text\"]\n",
    "        label = self.dataset[item][\"label\"]\n",
    "        return text,label"
   ]
  },
  {
   "cell_type": "code",
   "execution_count": 3,
   "id": "87ae232b",
   "metadata": {},
   "outputs": [],
   "source": [
    "\n",
    "class Model(torch.nn.Module):\n",
    "    def __init__(self):\n",
    "        super().__init__()\n",
    "        self.fc = torch.nn.Linear(768,2)\n",
    "    # 前向推理运算\n",
    "    def forward(self,input_ids,attention_mask,token_type_ids):\n",
    "        with torch.no_grad():\n",
    "            out = pretrained(input_ids=input_ids,attention_mask= attention_mask,token_type_ids=token_type_ids)\n",
    "        \n",
    "        out= self.fc(out.last_hidden_state[:,0])\n",
    "        out = out.softmax(dim=1)\n",
    "        return out"
   ]
  },
  {
   "cell_type": "code",
   "execution_count": 4,
   "id": "7ee7762d",
   "metadata": {},
   "outputs": [],
   "source": [
    "# 对数据进行编码处理\n",
    "def collate_fn(data):\n",
    "    sentes = [i[0] for i in data]\n",
    "    labels = [i[1] for i in data]\n",
    "    data = tokenizer.batch_encode_plus(\n",
    "        batch_text_or_text_pairs=sentes,\n",
    "        padding=\"max_length\",  # 填充到最大长度\n",
    "        truncation=True,       # 截断超过最大长度的序列\n",
    "        max_length=30,         # 最大长度为 10\n",
    "        return_length=True,\n",
    "        return_tensors=\"pt\",\n",
    "    )\n",
    "    input_ids = data[\"input_ids\"]\n",
    "    attention_mask = data[\"attention_mask\"]\n",
    "    token_type_ids = data[\"token_type_ids\"]\n",
    "    labels = torch.LongTensor(labels)\n",
    "    \n",
    "    return input_ids,attention_mask,token_type_ids,labels"
   ]
  },
  {
   "cell_type": "code",
   "execution_count": 5,
   "id": "4ab5d178",
   "metadata": {},
   "outputs": [],
   "source": [
    "DEVICE= torch.device(\"cuda\" if torch.cuda.is_available() else \"cpu\")\n",
    "# model_name=\"bert-base-chinese\"\n",
    "model_name=r\"D:\\Workspace\\regression\\huggingface\\model\\bert-base-chinese\\models--bert-base-chinese\\snapshots\\c30a6ed22ab4564dc1e3b2ecbf6e766b0611a33f\"\n",
    "tokenizer = BertTokenizer.from_pretrained(model_name)\n",
    "pretrained = BertModel.from_pretrained(model_name).to(DEVICE)\n",
    "\n",
    "# 1、创建数据集\n",
    "test_ds= BizDataset(\"test\")\n",
    "# 2、创建数据加载器\n",
    "test_loader = DataLoader(\n",
    "    dataset=test_ds,\n",
    "    batch_size=8,\n",
    "    shuffle=True,\n",
    "    drop_last=True,\n",
    "    collate_fn=collate_fn\n",
    ")"
   ]
  },
  {
   "cell_type": "code",
   "execution_count": 6,
   "id": "d65f962f",
   "metadata": {},
   "outputs": [
    {
     "name": "stdout",
     "output_type": "stream",
     "text": [
      "cpu\n"
     ]
    },
    {
     "name": "stderr",
     "output_type": "stream",
     "text": [
      "C:\\Users\\ldz11\\AppData\\Local\\Temp\\ipykernel_33476\\1024724338.py:8: FutureWarning: You are using `torch.load` with `weights_only=False` (the current default value), which uses the default pickle module implicitly. It is possible to construct malicious pickle data which will execute arbitrary code during unpickling (See https://github.com/pytorch/pytorch/blob/main/SECURITY.md#untrusted-models for more details). In a future release, the default value for `weights_only` will be flipped to `True`. This limits the functions that could be executed during unpickling. Arbitrary objects will no longer be allowed to be loaded via this mode unless they are explicitly allowlisted by the user via `torch.serialization.add_safe_globals`. We recommend you start setting `weights_only=True` for any use case where you don't have full control of the loaded file. Please open an issue on GitHub for any issues related to this experimental feature.\n",
      "  model.load_state_dict(torch.load(\"params/2bert.pt\"))\n"
     ]
    },
    {
     "name": "stdout",
     "output_type": "stream",
     "text": [
      "0.84\n"
     ]
    }
   ],
   "source": [
    "if __name__=='__main__':\n",
    "    acc=0\n",
    "    total=0\n",
    "    print(DEVICE)\n",
    "    model=Model().to(DEVICE)\n",
    "#     optimizer=AdamW(model.parameters(),lr=1e-3)    \n",
    "#     loss_func =torch.nn.CrossEntropyLoss()\n",
    "    model.load_state_dict(torch.load(\"params/2bert.pt\"))\n",
    "    model.eval()\n",
    "\n",
    "    for i ,(input_ids,attention_mask,token_type_ids,labels) in enumerate(test_loader):\n",
    "        input_ids,attention_mask,token_type_ids,labels = input_ids.to(DEVICE),attention_mask.to(DEVICE),token_type_ids.to(DEVICE),labels.to(DEVICE)\n",
    "        # 执行前向计算\n",
    "        out= model(input_ids,attention_mask,token_type_ids)\n",
    " \n",
    "        out = out.argmax(dim=1)\n",
    "        acc += (out == labels).sum().item()\n",
    "        total += len(labels)\n",
    "        \n",
    "    print(acc/total)    "
   ]
  },
  {
   "cell_type": "code",
   "execution_count": null,
   "id": "efa1329c",
   "metadata": {},
   "outputs": [],
   "source": []
  }
 ],
 "metadata": {
  "kernelspec": {
   "display_name": "Python 3 (ipykernel)",
   "language": "python",
   "name": "python3"
  },
  "language_info": {
   "codemirror_mode": {
    "name": "ipython",
    "version": 3
   },
   "file_extension": ".py",
   "mimetype": "text/x-python",
   "name": "python",
   "nbconvert_exporter": "python",
   "pygments_lexer": "ipython3",
   "version": "3.10.14"
  }
 },
 "nbformat": 4,
 "nbformat_minor": 5
}
